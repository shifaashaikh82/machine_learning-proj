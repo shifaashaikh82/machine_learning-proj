{
 "cells": [
  {
   "cell_type": "markdown",
   "id": "444dd54c-89cb-4a8f-9c0f-61539841aab4",
   "metadata": {},
   "source": [
    "## 📈 Regression on Yes Bank Data: Price Prediction\n",
    "  #### By Shifa Shaikh"
   ]
  },
  {
   "cell_type": "markdown",
   "id": "121298ec-220e-4309-95d6-2b820bbc6044",
   "metadata": {},
   "source": [
    "### Problem statement\n",
    "**This project aims to analyze historical stock market data of Yes Bank and develop machine learning models to predict future stock closing prices. By examining patterns in Open, High, Low, and Close prices over time, the study seeks to assist investors and financial analysts in making informed investment decisions and identifying potential market trends.**"
   ]
  },
  {
   "cell_type": "markdown",
   "id": "aefe4887-59d5-429e-9947-f0065c14b894",
   "metadata": {},
   "source": [
    "#### Importing packages"
   ]
  },
  {
   "cell_type": "code",
   "execution_count": 4,
   "id": "38065a83-a79d-46b4-b416-99303cad2cc4",
   "metadata": {},
   "outputs": [],
   "source": [
    "import pandas as pd\n",
    "import numpy as np\n",
    "from matplotlib import pyplot as plt\n",
    "import seaborn as sns\n",
    "\n",
    "import warnings\n",
    "warnings.filterwarnings(\"ignore\")\n"
   ]
  },
  {
   "cell_type": "markdown",
   "id": "eaef70ad-9e28-4d37-b05c-156a500b8190",
   "metadata": {},
   "source": [
    "#### The dataset was successfully loaded using:"
   ]
  },
  {
   "cell_type": "code",
   "execution_count": 6,
   "id": "065e4fe3-82a7-4655-a97c-daaa45366942",
   "metadata": {},
   "outputs": [
    {
     "data": {
      "text/html": [
       "<div>\n",
       "<style scoped>\n",
       "    .dataframe tbody tr th:only-of-type {\n",
       "        vertical-align: middle;\n",
       "    }\n",
       "\n",
       "    .dataframe tbody tr th {\n",
       "        vertical-align: top;\n",
       "    }\n",
       "\n",
       "    .dataframe thead th {\n",
       "        text-align: right;\n",
       "    }\n",
       "</style>\n",
       "<table border=\"1\" class=\"dataframe\">\n",
       "  <thead>\n",
       "    <tr style=\"text-align: right;\">\n",
       "      <th></th>\n",
       "      <th>Date</th>\n",
       "      <th>Open</th>\n",
       "      <th>High</th>\n",
       "      <th>Low</th>\n",
       "      <th>Close</th>\n",
       "    </tr>\n",
       "  </thead>\n",
       "  <tbody>\n",
       "    <tr>\n",
       "      <th>0</th>\n",
       "      <td>Jul-05</td>\n",
       "      <td>13.00</td>\n",
       "      <td>14.00</td>\n",
       "      <td>11.25</td>\n",
       "      <td>12.46</td>\n",
       "    </tr>\n",
       "    <tr>\n",
       "      <th>1</th>\n",
       "      <td>Aug-05</td>\n",
       "      <td>12.58</td>\n",
       "      <td>14.88</td>\n",
       "      <td>12.55</td>\n",
       "      <td>13.42</td>\n",
       "    </tr>\n",
       "    <tr>\n",
       "      <th>2</th>\n",
       "      <td>Sep-05</td>\n",
       "      <td>13.48</td>\n",
       "      <td>14.87</td>\n",
       "      <td>12.27</td>\n",
       "      <td>13.30</td>\n",
       "    </tr>\n",
       "    <tr>\n",
       "      <th>3</th>\n",
       "      <td>Oct-05</td>\n",
       "      <td>13.20</td>\n",
       "      <td>14.47</td>\n",
       "      <td>12.40</td>\n",
       "      <td>12.99</td>\n",
       "    </tr>\n",
       "    <tr>\n",
       "      <th>4</th>\n",
       "      <td>Nov-05</td>\n",
       "      <td>13.35</td>\n",
       "      <td>13.88</td>\n",
       "      <td>12.88</td>\n",
       "      <td>13.41</td>\n",
       "    </tr>\n",
       "    <tr>\n",
       "      <th>...</th>\n",
       "      <td>...</td>\n",
       "      <td>...</td>\n",
       "      <td>...</td>\n",
       "      <td>...</td>\n",
       "      <td>...</td>\n",
       "    </tr>\n",
       "    <tr>\n",
       "      <th>180</th>\n",
       "      <td>Jul-20</td>\n",
       "      <td>25.60</td>\n",
       "      <td>28.30</td>\n",
       "      <td>11.10</td>\n",
       "      <td>11.95</td>\n",
       "    </tr>\n",
       "    <tr>\n",
       "      <th>181</th>\n",
       "      <td>Aug-20</td>\n",
       "      <td>12.00</td>\n",
       "      <td>17.16</td>\n",
       "      <td>11.85</td>\n",
       "      <td>14.37</td>\n",
       "    </tr>\n",
       "    <tr>\n",
       "      <th>182</th>\n",
       "      <td>Sep-20</td>\n",
       "      <td>14.30</td>\n",
       "      <td>15.34</td>\n",
       "      <td>12.75</td>\n",
       "      <td>13.15</td>\n",
       "    </tr>\n",
       "    <tr>\n",
       "      <th>183</th>\n",
       "      <td>Oct-20</td>\n",
       "      <td>13.30</td>\n",
       "      <td>14.01</td>\n",
       "      <td>12.11</td>\n",
       "      <td>12.42</td>\n",
       "    </tr>\n",
       "    <tr>\n",
       "      <th>184</th>\n",
       "      <td>Nov-20</td>\n",
       "      <td>12.41</td>\n",
       "      <td>14.90</td>\n",
       "      <td>12.21</td>\n",
       "      <td>14.67</td>\n",
       "    </tr>\n",
       "  </tbody>\n",
       "</table>\n",
       "<p>185 rows × 5 columns</p>\n",
       "</div>"
      ],
      "text/plain": [
       "       Date   Open   High    Low  Close\n",
       "0    Jul-05  13.00  14.00  11.25  12.46\n",
       "1    Aug-05  12.58  14.88  12.55  13.42\n",
       "2    Sep-05  13.48  14.87  12.27  13.30\n",
       "3    Oct-05  13.20  14.47  12.40  12.99\n",
       "4    Nov-05  13.35  13.88  12.88  13.41\n",
       "..      ...    ...    ...    ...    ...\n",
       "180  Jul-20  25.60  28.30  11.10  11.95\n",
       "181  Aug-20  12.00  17.16  11.85  14.37\n",
       "182  Sep-20  14.30  15.34  12.75  13.15\n",
       "183  Oct-20  13.30  14.01  12.11  12.42\n",
       "184  Nov-20  12.41  14.90  12.21  14.67\n",
       "\n",
       "[185 rows x 5 columns]"
      ]
     },
     "execution_count": 6,
     "metadata": {},
     "output_type": "execute_result"
    }
   ],
   "source": [
    "df=pd.read_csv(\"C:\\\\Users\\\\HP\\\\Downloads\\\\data_YesBank.csv\")\n",
    "df"
   ]
  },
  {
   "cell_type": "markdown",
   "id": "29a1a0bf-7789-4ff1-9065-99eb79ed7332",
   "metadata": {},
   "source": [
    "### 📊 Variable Description\n",
    "**1. date**-Date of the record.<br>\n",
    "**2. open**-The opening price of the stock for the day.<br>\n",
    "**3. high**-The highest price reached by the stock during the day.<br>\n",
    "**4. low**-The lowest price reached by the stock during the day.<br>\n",
    "**5. close**-The closing price of the stock for the day.<br>\n",
    "\n"
   ]
  },
  {
   "cell_type": "markdown",
   "id": "e30c9cc2-9f06-4a1e-bd3a-90ea088964ee",
   "metadata": {},
   "source": [
    "#### head(): Displays the first 5 rows to give a quick preview of the data, showing the initial entries for all columns.\n",
    "\n"
   ]
  },
  {
   "cell_type": "code",
   "execution_count": 9,
   "id": "818ed957-6014-48c1-ab90-ee04546124e6",
   "metadata": {},
   "outputs": [
    {
     "data": {
      "text/html": [
       "<div>\n",
       "<style scoped>\n",
       "    .dataframe tbody tr th:only-of-type {\n",
       "        vertical-align: middle;\n",
       "    }\n",
       "\n",
       "    .dataframe tbody tr th {\n",
       "        vertical-align: top;\n",
       "    }\n",
       "\n",
       "    .dataframe thead th {\n",
       "        text-align: right;\n",
       "    }\n",
       "</style>\n",
       "<table border=\"1\" class=\"dataframe\">\n",
       "  <thead>\n",
       "    <tr style=\"text-align: right;\">\n",
       "      <th></th>\n",
       "      <th>Date</th>\n",
       "      <th>Open</th>\n",
       "      <th>High</th>\n",
       "      <th>Low</th>\n",
       "      <th>Close</th>\n",
       "    </tr>\n",
       "  </thead>\n",
       "  <tbody>\n",
       "    <tr>\n",
       "      <th>0</th>\n",
       "      <td>Jul-05</td>\n",
       "      <td>13.00</td>\n",
       "      <td>14.00</td>\n",
       "      <td>11.25</td>\n",
       "      <td>12.46</td>\n",
       "    </tr>\n",
       "    <tr>\n",
       "      <th>1</th>\n",
       "      <td>Aug-05</td>\n",
       "      <td>12.58</td>\n",
       "      <td>14.88</td>\n",
       "      <td>12.55</td>\n",
       "      <td>13.42</td>\n",
       "    </tr>\n",
       "    <tr>\n",
       "      <th>2</th>\n",
       "      <td>Sep-05</td>\n",
       "      <td>13.48</td>\n",
       "      <td>14.87</td>\n",
       "      <td>12.27</td>\n",
       "      <td>13.30</td>\n",
       "    </tr>\n",
       "    <tr>\n",
       "      <th>3</th>\n",
       "      <td>Oct-05</td>\n",
       "      <td>13.20</td>\n",
       "      <td>14.47</td>\n",
       "      <td>12.40</td>\n",
       "      <td>12.99</td>\n",
       "    </tr>\n",
       "    <tr>\n",
       "      <th>4</th>\n",
       "      <td>Nov-05</td>\n",
       "      <td>13.35</td>\n",
       "      <td>13.88</td>\n",
       "      <td>12.88</td>\n",
       "      <td>13.41</td>\n",
       "    </tr>\n",
       "  </tbody>\n",
       "</table>\n",
       "</div>"
      ],
      "text/plain": [
       "     Date   Open   High    Low  Close\n",
       "0  Jul-05  13.00  14.00  11.25  12.46\n",
       "1  Aug-05  12.58  14.88  12.55  13.42\n",
       "2  Sep-05  13.48  14.87  12.27  13.30\n",
       "3  Oct-05  13.20  14.47  12.40  12.99\n",
       "4  Nov-05  13.35  13.88  12.88  13.41"
      ]
     },
     "execution_count": 9,
     "metadata": {},
     "output_type": "execute_result"
    }
   ],
   "source": [
    "df.head()"
   ]
  },
  {
   "cell_type": "markdown",
   "id": "56dff4c9-14f7-4946-99e6-b8ce08d99ca6",
   "metadata": {},
   "source": [
    "#### shape: Reveals the structure of the dataset, showing how many rows and columns it contains."
   ]
  },
  {
   "cell_type": "code",
   "execution_count": 11,
   "id": "d5b3003a-346e-4305-ab44-f9db8628b80e",
   "metadata": {},
   "outputs": [
    {
     "data": {
      "text/plain": [
       "(185, 5)"
      ]
     },
     "execution_count": 11,
     "metadata": {},
     "output_type": "execute_result"
    }
   ],
   "source": [
    "df.shape"
   ]
  },
  {
   "cell_type": "markdown",
   "id": "8cf5a149-590b-4778-9671-2a1f4d0a74f5",
   "metadata": {},
   "source": [
    "#### Duplicate Records:The dataset contains no duplicate rows. Each entry is unique."
   ]
  },
  {
   "cell_type": "code",
   "execution_count": 13,
   "id": "9bc20cd5-08e9-4a9d-bab1-ecef839402db",
   "metadata": {},
   "outputs": [
    {
     "data": {
      "text/plain": [
       "0"
      ]
     },
     "execution_count": 13,
     "metadata": {},
     "output_type": "execute_result"
    }
   ],
   "source": [
    "df.duplicated().sum()"
   ]
  },
  {
   "cell_type": "markdown",
   "id": "7615767c-f61c-410b-9da1-034ec43be613",
   "metadata": {},
   "source": [
    "#### Null Values:There are no missing (null) values in the dataset. All columns contain complete data."
   ]
  },
  {
   "cell_type": "code",
   "execution_count": 15,
   "id": "4f39f238-feb3-4399-a120-aecd6b6819f1",
   "metadata": {},
   "outputs": [
    {
     "name": "stdout",
     "output_type": "stream",
     "text": [
      "<bound method DataFrame.sum of       Date   Open   High    Low  Close\n",
      "0    False  False  False  False  False\n",
      "1    False  False  False  False  False\n",
      "2    False  False  False  False  False\n",
      "3    False  False  False  False  False\n",
      "4    False  False  False  False  False\n",
      "..     ...    ...    ...    ...    ...\n",
      "180  False  False  False  False  False\n",
      "181  False  False  False  False  False\n",
      "182  False  False  False  False  False\n",
      "183  False  False  False  False  False\n",
      "184  False  False  False  False  False\n",
      "\n",
      "[185 rows x 5 columns]>\n"
     ]
    }
   ],
   "source": [
    "print(df.isnull().sum)"
   ]
  },
  {
   "cell_type": "markdown",
   "id": "d4bec3f2-5cc6-40c9-a692-9112a2563d36",
   "metadata": {},
   "source": [
    "#### describe(): Provides a statistical summary of the numerical columns in the dataset — including count, mean, min, max, and quartiles."
   ]
  },
  {
   "cell_type": "code",
   "execution_count": 17,
   "id": "71491547-6a19-4673-a245-6b8844dc7527",
   "metadata": {},
   "outputs": [
    {
     "data": {
      "text/html": [
       "<div>\n",
       "<style scoped>\n",
       "    .dataframe tbody tr th:only-of-type {\n",
       "        vertical-align: middle;\n",
       "    }\n",
       "\n",
       "    .dataframe tbody tr th {\n",
       "        vertical-align: top;\n",
       "    }\n",
       "\n",
       "    .dataframe thead th {\n",
       "        text-align: right;\n",
       "    }\n",
       "</style>\n",
       "<table border=\"1\" class=\"dataframe\">\n",
       "  <thead>\n",
       "    <tr style=\"text-align: right;\">\n",
       "      <th></th>\n",
       "      <th>Open</th>\n",
       "      <th>High</th>\n",
       "      <th>Low</th>\n",
       "      <th>Close</th>\n",
       "    </tr>\n",
       "  </thead>\n",
       "  <tbody>\n",
       "    <tr>\n",
       "      <th>count</th>\n",
       "      <td>185.000000</td>\n",
       "      <td>185.000000</td>\n",
       "      <td>185.000000</td>\n",
       "      <td>185.000000</td>\n",
       "    </tr>\n",
       "    <tr>\n",
       "      <th>mean</th>\n",
       "      <td>105.541405</td>\n",
       "      <td>116.104324</td>\n",
       "      <td>94.947838</td>\n",
       "      <td>105.204703</td>\n",
       "    </tr>\n",
       "    <tr>\n",
       "      <th>std</th>\n",
       "      <td>98.879850</td>\n",
       "      <td>106.333497</td>\n",
       "      <td>91.219415</td>\n",
       "      <td>98.583153</td>\n",
       "    </tr>\n",
       "    <tr>\n",
       "      <th>min</th>\n",
       "      <td>10.000000</td>\n",
       "      <td>11.240000</td>\n",
       "      <td>5.550000</td>\n",
       "      <td>9.980000</td>\n",
       "    </tr>\n",
       "    <tr>\n",
       "      <th>25%</th>\n",
       "      <td>33.800000</td>\n",
       "      <td>36.140000</td>\n",
       "      <td>28.510000</td>\n",
       "      <td>33.450000</td>\n",
       "    </tr>\n",
       "    <tr>\n",
       "      <th>50%</th>\n",
       "      <td>62.980000</td>\n",
       "      <td>72.550000</td>\n",
       "      <td>58.000000</td>\n",
       "      <td>62.540000</td>\n",
       "    </tr>\n",
       "    <tr>\n",
       "      <th>75%</th>\n",
       "      <td>153.000000</td>\n",
       "      <td>169.190000</td>\n",
       "      <td>138.350000</td>\n",
       "      <td>153.300000</td>\n",
       "    </tr>\n",
       "    <tr>\n",
       "      <th>max</th>\n",
       "      <td>369.950000</td>\n",
       "      <td>404.000000</td>\n",
       "      <td>345.500000</td>\n",
       "      <td>367.900000</td>\n",
       "    </tr>\n",
       "  </tbody>\n",
       "</table>\n",
       "</div>"
      ],
      "text/plain": [
       "             Open        High         Low       Close\n",
       "count  185.000000  185.000000  185.000000  185.000000\n",
       "mean   105.541405  116.104324   94.947838  105.204703\n",
       "std     98.879850  106.333497   91.219415   98.583153\n",
       "min     10.000000   11.240000    5.550000    9.980000\n",
       "25%     33.800000   36.140000   28.510000   33.450000\n",
       "50%     62.980000   72.550000   58.000000   62.540000\n",
       "75%    153.000000  169.190000  138.350000  153.300000\n",
       "max    369.950000  404.000000  345.500000  367.900000"
      ]
     },
     "execution_count": 17,
     "metadata": {},
     "output_type": "execute_result"
    }
   ],
   "source": [
    "df.describe()"
   ]
  },
  {
   "cell_type": "markdown",
   "id": "7df65e0c-e7b9-4b00-a336-acb5409b66a4",
   "metadata": {},
   "source": [
    "#### info(): Provides a detailed overview of the DataFrame, including the number of non-null values and data types for each column.\n",
    "\n"
   ]
  },
  {
   "cell_type": "code",
   "execution_count": 19,
   "id": "ab84483e-ff7a-4a4e-a4ad-b806dcbd9dae",
   "metadata": {},
   "outputs": [
    {
     "name": "stdout",
     "output_type": "stream",
     "text": [
      "<class 'pandas.core.frame.DataFrame'>\n",
      "RangeIndex: 185 entries, 0 to 184\n",
      "Data columns (total 5 columns):\n",
      " #   Column  Non-Null Count  Dtype  \n",
      "---  ------  --------------  -----  \n",
      " 0   Date    185 non-null    object \n",
      " 1   Open    185 non-null    float64\n",
      " 2   High    185 non-null    float64\n",
      " 3   Low     185 non-null    float64\n",
      " 4   Close   185 non-null    float64\n",
      "dtypes: float64(4), object(1)\n",
      "memory usage: 7.4+ KB\n"
     ]
    }
   ],
   "source": [
    "df.info()"
   ]
  },
  {
   "cell_type": "markdown",
   "id": "64e9afb5-3cd9-4ed2-80ad-a17847249c72",
   "metadata": {},
   "source": [
    "#### columns: Displays a list of column names in the DataFrame\n",
    "\n"
   ]
  },
  {
   "cell_type": "code",
   "execution_count": 21,
   "id": "433c4269-2cc9-4ea7-8a3d-c7a518963fd3",
   "metadata": {},
   "outputs": [
    {
     "data": {
      "text/plain": [
       "Index(['Date', 'Open', 'High', 'Low', 'Close'], dtype='object')"
      ]
     },
     "execution_count": 21,
     "metadata": {},
     "output_type": "execute_result"
    }
   ],
   "source": [
    "df.columns"
   ]
  },
  {
   "cell_type": "code",
   "execution_count": 22,
   "id": "b0316c97-b9b1-42fe-8887-921de5babb0a",
   "metadata": {},
   "outputs": [
    {
     "data": {
      "text/plain": [
       "array([ 13.  ,  12.58,  13.48,  13.2 ,  13.35,  13.49,  13.68,  15.5 ,\n",
       "        16.2 ,  20.56,  19.8 ,  18.2 ,  16.  ,  15.9 ,  18.  ,  18.78,\n",
       "        22.8 ,  25.4 ,  27.4 ,  30.2 ,  29.3 ,  27.  ,  30.66,  33.89,\n",
       "        35.98,  37.5 ,  37.4 ,  41.8 ,  44.4 ,  46.4 ,  49.99,  50.88,\n",
       "        48.9 ,  33.9 ,  34.3 ,  31.22,  22.85,  25.  ,  26.68,  24.6 ,\n",
       "        14.79,  12.4 ,  15.28,  12.19,  10.  ,  10.04,  15.94,  25.6 ,\n",
       "        29.7 ,  31.98,  33.8 ,  41.2 ,  46.58,  50.98,  53.6 ,  49.  ,\n",
       "        47.8 ,  50.67,  56.94,  56.7 ,  53.55,  59.4 ,  62.8 ,  70.9 ,\n",
       "        72.2 ,  61.8 ,  62.98,  53.  ,  51.84,  62.  ,  61.26,  60.4 ,\n",
       "        63.  ,  62.9 ,  56.  ,  53.8 ,  62.2 ,  57.  ,  47.92,  65.9 ,\n",
       "        69.  ,  73.62,  70.4 ,  65.45,  68.15,  73.  ,  66.2 ,  76.4 ,\n",
       "        82.54,  89.2 ,  93.2 , 104.41,  94.  ,  85.7 , 100.99,  99.  ,\n",
       "        92.4 ,  66.  ,  49.2 ,  58.  ,  74.  ,  74.4 ,  74.74,  61.54,\n",
       "        60.52,  83.45,  88.8 , 114.8 , 108.43, 107.4 , 114.6 , 112.1 ,\n",
       "       137.1 , 142.08, 154.4 , 172.5 , 174.8 , 162.8 , 170.  , 177.  ,\n",
       "       169.  , 165.9 , 135.61, 146.96, 151.73, 153.  , 145.  , 150.4 ,\n",
       "       138.8 , 172.02, 189.8 , 206.4 , 221.96, 244.  , 273.3 , 253.41,\n",
       "       255.  , 235.4 , 231.98, 280.4 , 290.6 , 309.6 , 326.  , 286.66,\n",
       "       293.04, 363.  , 351.  , 354.6 , 315.5 , 307.2 , 314.  , 355.  ,\n",
       "       320.7 , 305.  , 362.85, 348.  , 340.  , 369.95, 347.2 , 180.  ,\n",
       "       192.  , 174.  , 182.85, 197.  , 234.6 , 277.  , 163.3 , 147.95,\n",
       "       109.6 ,  59.5 ,  42.  ,  71.  ,  70.  ,  46.9 ,  39.1 ,  35.2 ,\n",
       "        22.3 ,  27.8 ,  27.75,  12.  ,  14.3 ,  13.3 ,  12.41])"
      ]
     },
     "execution_count": 22,
     "metadata": {},
     "output_type": "execute_result"
    }
   ],
   "source": [
    "df['Open'].unique()"
   ]
  },
  {
   "cell_type": "markdown",
   "id": "226ba0fb-1c96-4b43-833f-ca25c37caeb4",
   "metadata": {},
   "source": [
    "#### unique(): Displays the unique values in a specific column, helping identify distinct entries.\n",
    "\n"
   ]
  },
  {
   "cell_type": "code",
   "execution_count": 24,
   "id": "e3d0ac50-b9bd-4a9c-8f72-ddefc4fc2a3c",
   "metadata": {},
   "outputs": [
    {
     "name": "stdout",
     "output_type": "stream",
     "text": [
      "Date \n",
      " ['Jul-05' 'Aug-05' 'Sep-05' 'Oct-05' 'Nov-05' 'Dec-05' 'Jan-06' 'Feb-06'\n",
      " 'Mar-06' 'Apr-06' 'May-06' 'Jun-06' 'Jul-06' 'Aug-06' 'Sep-06' 'Oct-06'\n",
      " 'Nov-06' 'Dec-06' 'Jan-07' 'Feb-07' 'Mar-07' 'Apr-07' 'May-07' 'Jun-07'\n",
      " 'Jul-07' 'Aug-07' 'Sep-07' 'Oct-07' 'Nov-07' 'Dec-07' 'Jan-08' 'Feb-08'\n",
      " 'Mar-08' 'Apr-08' 'May-08' 'Jun-08' 'Jul-08' 'Aug-08' 'Sep-08' 'Oct-08'\n",
      " 'Nov-08' 'Dec-08' 'Jan-09' 'Feb-09' 'Mar-09' 'Apr-09' 'May-09' 'Jun-09'\n",
      " 'Jul-09' 'Aug-09' 'Sep-09' 'Oct-09' 'Nov-09' 'Dec-09' 'Jan-10' 'Feb-10'\n",
      " 'Mar-10' 'Apr-10' 'May-10' 'Jun-10' 'Jul-10' 'Aug-10' 'Sep-10' 'Oct-10'\n",
      " 'Nov-10' 'Dec-10' 'Jan-11' 'Feb-11' 'Mar-11' 'Apr-11' 'May-11' 'Jun-11'\n",
      " 'Jul-11' 'Aug-11' 'Sep-11' 'Oct-11' 'Nov-11' 'Dec-11' 'Jan-12' 'Feb-12'\n",
      " 'Mar-12' 'Apr-12' 'May-12' 'Jun-12' 'Jul-12' 'Aug-12' 'Sep-12' 'Oct-12'\n",
      " 'Nov-12' 'Dec-12' 'Jan-13' 'Feb-13' 'Mar-13' 'Apr-13' 'May-13' 'Jun-13'\n",
      " 'Jul-13' 'Aug-13' 'Sep-13' 'Oct-13' 'Nov-13' 'Dec-13' 'Jan-14' 'Feb-14'\n",
      " 'Mar-14' 'Apr-14' 'May-14' 'Jun-14' 'Jul-14' 'Aug-14' 'Sep-14' 'Oct-14'\n",
      " 'Nov-14' 'Dec-14' 'Jan-15' 'Feb-15' 'Mar-15' 'Apr-15' 'May-15' 'Jun-15'\n",
      " 'Jul-15' 'Aug-15' 'Sep-15' 'Oct-15' 'Nov-15' 'Dec-15' 'Jan-16' 'Feb-16'\n",
      " 'Mar-16' 'Apr-16' 'May-16' 'Jun-16' 'Jul-16' 'Aug-16' 'Sep-16' 'Oct-16'\n",
      " 'Nov-16' 'Dec-16' 'Jan-17' 'Feb-17' 'Mar-17' 'Apr-17' 'May-17' 'Jun-17'\n",
      " 'Jul-17' 'Aug-17' 'Sep-17' 'Oct-17' 'Nov-17' 'Dec-17' 'Jan-18' 'Feb-18'\n",
      " 'Mar-18' 'Apr-18' 'May-18' 'Jun-18' 'Jul-18' 'Aug-18' 'Sep-18' 'Oct-18'\n",
      " 'Nov-18' 'Dec-18' 'Jan-19' 'Feb-19' 'Mar-19' 'Apr-19' 'May-19' 'Jun-19'\n",
      " 'Jul-19' 'Aug-19' 'Sep-19' 'Oct-19' 'Nov-19' 'Dec-19' 'Jan-20' 'Feb-20'\n",
      " 'Mar-20' 'Apr-20' 'May-20' 'Jun-20' 'Jul-20' 'Aug-20' 'Sep-20' 'Oct-20'\n",
      " 'Nov-20'] \n",
      "\n",
      "Open \n",
      " [ 13.    12.58  13.48  13.2   13.35  13.49  13.68  15.5   16.2   20.56\n",
      "  19.8   18.2   16.    15.9   18.    18.78  22.8   25.4   27.4   30.2\n",
      "  29.3   27.    30.66  33.89  35.98  37.5   37.4   41.8   44.4   46.4\n",
      "  49.99  50.88  48.9   33.9   34.3   31.22  22.85  25.    26.68  24.6\n",
      "  14.79  12.4   15.28  12.19  10.    10.04  15.94  25.6   29.7   31.98\n",
      "  33.8   41.2   46.58  50.98  53.6   49.    47.8   50.67  56.94  56.7\n",
      "  53.55  59.4   62.8   70.9   72.2   61.8   62.98  53.    51.84  62.\n",
      "  61.26  60.4   63.    62.9   56.    53.8   62.2   57.    47.92  65.9\n",
      "  69.    73.62  70.4   65.45  68.15  73.    66.2   76.4   82.54  89.2\n",
      "  93.2  104.41  94.    85.7  100.99  99.    92.4   66.    49.2   58.\n",
      "  74.    74.4   74.74  61.54  60.52  83.45  88.8  114.8  108.43 107.4\n",
      " 114.6  112.1  137.1  142.08 154.4  172.5  174.8  162.8  170.   177.\n",
      " 169.   165.9  135.61 146.96 151.73 153.   145.   150.4  138.8  172.02\n",
      " 189.8  206.4  221.96 244.   273.3  253.41 255.   235.4  231.98 280.4\n",
      " 290.6  309.6  326.   286.66 293.04 363.   351.   354.6  315.5  307.2\n",
      " 314.   355.   320.7  305.   362.85 348.   340.   369.95 347.2  180.\n",
      " 192.   174.   182.85 197.   234.6  277.   163.3  147.95 109.6   59.5\n",
      "  42.    71.    70.    46.9   39.1   35.2   22.3   27.8   27.75  12.\n",
      "  14.3   13.3   12.41] \n",
      "\n",
      "High \n",
      " [ 14.    14.88  14.87  14.47  13.88  14.44  17.16  16.97  20.95  20.8\n",
      "  21.8   18.4   17.2   18.6   18.88  24.2   28.47  29.66  34.16  32.6\n",
      "  31.58  31.99  36.14  36.38  41.04  39.    41.75  47.3   50.98  54.\n",
      "  55.56  53.97  48.9   35.8   36.88  32.22  30.5   28.98  29.8   25.\n",
      "  17.8   16.56  18.34  12.5   11.24  17.51  28.84  31.08  33.16  35.18\n",
      "  41.3   52.34  54.98  55.67  57.58  51.48  52.06  59.48  58.08  59.9\n",
      "  60.94  68.88  71.74  76.    77.6   68.36  63.54  57.69  65.2   68.26\n",
      "  61.68  63.39  68.    63.96  60.08  64.8   63.7   59.8   66.5   74.8\n",
      "  77.88  76.1   70.59  70.6   73.19  74.78  77.69  84.2   89.6   95.\n",
      " 107.   107.8  100.15 101.8  109.43 102.94 100.4   67.81  78.94  76.44\n",
      "  77.27  83.    76.35  62.7   83.36  94.98 117.6  117.57 114.46 118.69\n",
      " 126.85 137.8  143.91 155.   179.   173.88 182.   172.8  176.96 179.4\n",
      " 175.58 169.19 155.5  155.94 157.96 154.52 149.9  157.85 175.12 190.44\n",
      " 209.   223.   247.18 275.   290.   265.5  262.72 245.   284.31 294.19\n",
      " 311.57 330.58 330.3  306.34 372.   368.52 383.25 375.75 329.8  319.\n",
      " 366.   366.5  325.8  368.75 364.4  350.1  393.35 404.   350.   268.45\n",
      " 231.4  194.3  236.3  236.9  281.3  285.9  178.05 153.8  110.6   92.4\n",
      "  72.55  76.65  75.35  70.5   48.5   40.7   87.95  30.45  31.6   31.95\n",
      "  28.3   15.34  14.01  14.9 ] \n",
      "\n",
      "Low \n",
      " [ 11.25  12.55  12.27  12.4   12.88  13.    13.58  15.4   16.02  18.02\n",
      "  15.8   13.4   13.82  15.7   16.8   18.5   21.4   24.4   27.    26.8\n",
      "  23.31  26.2   29.11  30.4   35.02  30.2   35.3   33.6   40.02  45.\n",
      "  30.24  44.4   24.11  28.51  30.03  22.62  20.4   24.62  21.7   11.01\n",
      "  11.13  11.48   9.9    8.16   9.94  14.76  23.    24.83  29.    32.\n",
      "  36.8   42.84  48.6   46.42  44.6   47.3   48.8   50.66  52.6   53.02\n",
      "  59.01  62.51  68.21  58.    55.44  49.39  46.71  50.8   60.5   54.5\n",
      "  54.8   61.36  50.51  51.2   48.1   52.04  47.4   46.11  63.6   66.2\n",
      "  69.11  58.85  62.14  67.57  65.27  64.46  75.6   82.22  88.01  93.2\n",
      "  93.4   83.42  83.43  97.2   87.15  57.71  43.22  44.8   56.08  64.65\n",
      "  71.63  60.8   58.42  60.34  80.8   86.98 101.62 100.44 103.31 107.18\n",
      " 109.2  132.44 134.   150.47 156.1  156.8  154.53 157.8  158.9  156.45\n",
      " 118.   127.   141.73 144.03 133.71 126.45 132.74 138.35 165.33 181.28\n",
      " 201.14 221.35 240.68 231.2  245.8  219.1  218.25 226.3  275.61 283.6\n",
      " 300.2  275.15 280.21 290.78 337.37 345.5  299.   296.   300.65 307.35\n",
      " 304.65 285.1  303.3  325.7  327.35 332.45 338.   166.15 168.6  147.\n",
      " 160.2  181.15 167.65 228.8  165.3  133.05  98.75  81.75  53.15  40.95\n",
      "  29.05  59.95  40.7   36.55   5.55  20.3   25.2   25.55  11.1   11.85\n",
      "  12.75  12.11  12.21] \n",
      "\n",
      "Close \n",
      " [ 12.46  13.42  13.3   12.99  13.41  13.71  15.33  16.12  20.08  19.49\n",
      "  18.03  15.62  16.16  17.84  18.46  22.78  25.32  26.97  30.16  28.63\n",
      "  28.14  30.31  33.51  35.98  37.93  36.99  41.36  43.48  46.18  49.81\n",
      "  50.54  49.42  33.75  34.06  31.13  22.85  25.45  26.83  24.13  13.58\n",
      "  12.26  15.03  12.24  10.26   9.98  15.45  25.12  29.68  31.93  33.45\n",
      "  40.99  47.31  50.57  53.41  49.84  47.32  50.97  57.1   57.57  53.83\n",
      "  58.99  62.22  70.3   71.86  61.21  62.54  52.59  51.29  61.98  61.02\n",
      "  60.07  62.38  62.13  55.61  54.5   62.9   54.49  47.72  65.99  69.14\n",
      "  73.46  70.07  66.02  67.83  72.85  65.97  76.44  82.29  88.48  92.84\n",
      " 104.41  94.5   85.71 100.28  97.49  92.2   64.76  48.65  57.5   73.76\n",
      "  73.74  74.02  61.59  60.95  82.7   88.14 113.89 108.38 108.21 114.33\n",
      " 111.7  136.83 142.08 154.57 172.5  172.55 163.31 167.96 176.52 168.6\n",
      " 165.74 137.9  145.92 151.82 153.3  145.23 149.38 137.67 172.91 188.73\n",
      " 206.39 221.3  243.44 272.56 250.85 253.52 234.28 231.26 279.1  290.56\n",
      " 309.82 326.14 286.38 292.37 361.96 351.15 350.   314.35 306.8  315.05\n",
      " 354.45 322.25 304.9  362.05 346.2  339.6  367.9  343.4  183.45 188.05\n",
      " 169.65 181.75 194.3  231.2  275.05 168.   147.95 108.7   91.3   59.5\n",
      "  41.45  70.45  68.3   46.95  39.2   34.55  22.45  27.95  26.85  25.6\n",
      "  11.95  14.37  13.15  12.42  14.67] \n",
      "\n"
     ]
    }
   ],
   "source": [
    "for i in  df.columns:\n",
    "    print(i,\"\\n\",df[i].unique(),\"\\n\")\n"
   ]
  },
  {
   "cell_type": "markdown",
   "id": "be05cca8-7309-4401-80e1-7be96939934b",
   "metadata": {},
   "source": [
    "#### 📅 Date-Time Conversion:\"Converting String to DateTime format\""
   ]
  },
  {
   "cell_type": "code",
   "execution_count": 26,
   "id": "b5ca586d-e2bb-47b2-8eed-8f4115655f48",
   "metadata": {},
   "outputs": [
    {
     "name": "stdout",
     "output_type": "stream",
     "text": [
      "          Date   Open   High    Low  Close\n",
      "0   2005-07-01  13.00  14.00  11.25  12.46\n",
      "1   2005-08-01  12.58  14.88  12.55  13.42\n",
      "2   2005-09-01  13.48  14.87  12.27  13.30\n",
      "3   2005-10-01  13.20  14.47  12.40  12.99\n",
      "4   2005-11-01  13.35  13.88  12.88  13.41\n",
      "..         ...    ...    ...    ...    ...\n",
      "180 2020-07-01  25.60  28.30  11.10  11.95\n",
      "181 2020-08-01  12.00  17.16  11.85  14.37\n",
      "182 2020-09-01  14.30  15.34  12.75  13.15\n",
      "183 2020-10-01  13.30  14.01  12.11  12.42\n",
      "184 2020-11-01  12.41  14.90  12.21  14.67\n",
      "\n",
      "[185 rows x 5 columns]\n"
     ]
    }
   ],
   "source": [
    "\n",
    "df=pd.read_csv(\"C:\\\\Users\\\\HP\\Downloads\\\\data_YesBank.csv\")\n",
    "df['Date'] = pd.to_datetime('01-' + df['Date'], format='%d-%b-%y',errors='coerce')\n",
    "print(df)"
   ]
  },
  {
   "cell_type": "code",
   "execution_count": 27,
   "id": "8396d59f-0efb-431a-860c-983ccc26abb3",
   "metadata": {},
   "outputs": [
    {
     "data": {
      "text/html": [
       "<div>\n",
       "<style scoped>\n",
       "    .dataframe tbody tr th:only-of-type {\n",
       "        vertical-align: middle;\n",
       "    }\n",
       "\n",
       "    .dataframe tbody tr th {\n",
       "        vertical-align: top;\n",
       "    }\n",
       "\n",
       "    .dataframe thead th {\n",
       "        text-align: right;\n",
       "    }\n",
       "</style>\n",
       "<table border=\"1\" class=\"dataframe\">\n",
       "  <thead>\n",
       "    <tr style=\"text-align: right;\">\n",
       "      <th></th>\n",
       "      <th>Date</th>\n",
       "      <th>Open</th>\n",
       "      <th>High</th>\n",
       "      <th>Low</th>\n",
       "      <th>Close</th>\n",
       "    </tr>\n",
       "  </thead>\n",
       "  <tbody>\n",
       "    <tr>\n",
       "      <th>0</th>\n",
       "      <td>2005-07-01</td>\n",
       "      <td>13.00</td>\n",
       "      <td>14.00</td>\n",
       "      <td>11.25</td>\n",
       "      <td>12.46</td>\n",
       "    </tr>\n",
       "    <tr>\n",
       "      <th>1</th>\n",
       "      <td>2005-08-01</td>\n",
       "      <td>12.58</td>\n",
       "      <td>14.88</td>\n",
       "      <td>12.55</td>\n",
       "      <td>13.42</td>\n",
       "    </tr>\n",
       "    <tr>\n",
       "      <th>2</th>\n",
       "      <td>2005-09-01</td>\n",
       "      <td>13.48</td>\n",
       "      <td>14.87</td>\n",
       "      <td>12.27</td>\n",
       "      <td>13.30</td>\n",
       "    </tr>\n",
       "    <tr>\n",
       "      <th>3</th>\n",
       "      <td>2005-10-01</td>\n",
       "      <td>13.20</td>\n",
       "      <td>14.47</td>\n",
       "      <td>12.40</td>\n",
       "      <td>12.99</td>\n",
       "    </tr>\n",
       "    <tr>\n",
       "      <th>4</th>\n",
       "      <td>2005-11-01</td>\n",
       "      <td>13.35</td>\n",
       "      <td>13.88</td>\n",
       "      <td>12.88</td>\n",
       "      <td>13.41</td>\n",
       "    </tr>\n",
       "    <tr>\n",
       "      <th>5</th>\n",
       "      <td>2005-12-01</td>\n",
       "      <td>13.49</td>\n",
       "      <td>14.44</td>\n",
       "      <td>13.00</td>\n",
       "      <td>13.71</td>\n",
       "    </tr>\n",
       "    <tr>\n",
       "      <th>6</th>\n",
       "      <td>2006-01-01</td>\n",
       "      <td>13.68</td>\n",
       "      <td>17.16</td>\n",
       "      <td>13.58</td>\n",
       "      <td>15.33</td>\n",
       "    </tr>\n",
       "    <tr>\n",
       "      <th>7</th>\n",
       "      <td>2006-02-01</td>\n",
       "      <td>15.50</td>\n",
       "      <td>16.97</td>\n",
       "      <td>15.40</td>\n",
       "      <td>16.12</td>\n",
       "    </tr>\n",
       "    <tr>\n",
       "      <th>8</th>\n",
       "      <td>2006-03-01</td>\n",
       "      <td>16.20</td>\n",
       "      <td>20.95</td>\n",
       "      <td>16.02</td>\n",
       "      <td>20.08</td>\n",
       "    </tr>\n",
       "    <tr>\n",
       "      <th>9</th>\n",
       "      <td>2006-04-01</td>\n",
       "      <td>20.56</td>\n",
       "      <td>20.80</td>\n",
       "      <td>18.02</td>\n",
       "      <td>19.49</td>\n",
       "    </tr>\n",
       "    <tr>\n",
       "      <th>10</th>\n",
       "      <td>2006-05-01</td>\n",
       "      <td>19.80</td>\n",
       "      <td>21.80</td>\n",
       "      <td>15.80</td>\n",
       "      <td>18.03</td>\n",
       "    </tr>\n",
       "    <tr>\n",
       "      <th>11</th>\n",
       "      <td>2006-06-01</td>\n",
       "      <td>18.20</td>\n",
       "      <td>18.40</td>\n",
       "      <td>13.40</td>\n",
       "      <td>15.62</td>\n",
       "    </tr>\n",
       "    <tr>\n",
       "      <th>12</th>\n",
       "      <td>2006-07-01</td>\n",
       "      <td>16.00</td>\n",
       "      <td>17.20</td>\n",
       "      <td>13.82</td>\n",
       "      <td>16.16</td>\n",
       "    </tr>\n",
       "    <tr>\n",
       "      <th>13</th>\n",
       "      <td>2006-08-01</td>\n",
       "      <td>15.90</td>\n",
       "      <td>18.60</td>\n",
       "      <td>15.70</td>\n",
       "      <td>17.84</td>\n",
       "    </tr>\n",
       "    <tr>\n",
       "      <th>14</th>\n",
       "      <td>2006-09-01</td>\n",
       "      <td>18.00</td>\n",
       "      <td>18.88</td>\n",
       "      <td>16.80</td>\n",
       "      <td>18.46</td>\n",
       "    </tr>\n",
       "    <tr>\n",
       "      <th>15</th>\n",
       "      <td>2006-10-01</td>\n",
       "      <td>18.78</td>\n",
       "      <td>24.20</td>\n",
       "      <td>18.50</td>\n",
       "      <td>22.78</td>\n",
       "    </tr>\n",
       "    <tr>\n",
       "      <th>16</th>\n",
       "      <td>2006-11-01</td>\n",
       "      <td>22.80</td>\n",
       "      <td>28.47</td>\n",
       "      <td>21.40</td>\n",
       "      <td>25.32</td>\n",
       "    </tr>\n",
       "    <tr>\n",
       "      <th>17</th>\n",
       "      <td>2006-12-01</td>\n",
       "      <td>25.40</td>\n",
       "      <td>29.66</td>\n",
       "      <td>24.40</td>\n",
       "      <td>26.97</td>\n",
       "    </tr>\n",
       "    <tr>\n",
       "      <th>18</th>\n",
       "      <td>2007-01-01</td>\n",
       "      <td>27.40</td>\n",
       "      <td>34.16</td>\n",
       "      <td>27.00</td>\n",
       "      <td>30.16</td>\n",
       "    </tr>\n",
       "    <tr>\n",
       "      <th>19</th>\n",
       "      <td>2007-02-01</td>\n",
       "      <td>30.20</td>\n",
       "      <td>32.60</td>\n",
       "      <td>26.80</td>\n",
       "      <td>28.63</td>\n",
       "    </tr>\n",
       "  </tbody>\n",
       "</table>\n",
       "</div>"
      ],
      "text/plain": [
       "         Date   Open   High    Low  Close\n",
       "0  2005-07-01  13.00  14.00  11.25  12.46\n",
       "1  2005-08-01  12.58  14.88  12.55  13.42\n",
       "2  2005-09-01  13.48  14.87  12.27  13.30\n",
       "3  2005-10-01  13.20  14.47  12.40  12.99\n",
       "4  2005-11-01  13.35  13.88  12.88  13.41\n",
       "5  2005-12-01  13.49  14.44  13.00  13.71\n",
       "6  2006-01-01  13.68  17.16  13.58  15.33\n",
       "7  2006-02-01  15.50  16.97  15.40  16.12\n",
       "8  2006-03-01  16.20  20.95  16.02  20.08\n",
       "9  2006-04-01  20.56  20.80  18.02  19.49\n",
       "10 2006-05-01  19.80  21.80  15.80  18.03\n",
       "11 2006-06-01  18.20  18.40  13.40  15.62\n",
       "12 2006-07-01  16.00  17.20  13.82  16.16\n",
       "13 2006-08-01  15.90  18.60  15.70  17.84\n",
       "14 2006-09-01  18.00  18.88  16.80  18.46\n",
       "15 2006-10-01  18.78  24.20  18.50  22.78\n",
       "16 2006-11-01  22.80  28.47  21.40  25.32\n",
       "17 2006-12-01  25.40  29.66  24.40  26.97\n",
       "18 2007-01-01  27.40  34.16  27.00  30.16\n",
       "19 2007-02-01  30.20  32.60  26.80  28.63"
      ]
     },
     "execution_count": 27,
     "metadata": {},
     "output_type": "execute_result"
    }
   ],
   "source": [
    "df.head(20)"
   ]
  },
  {
   "cell_type": "code",
   "execution_count": 28,
   "id": "44d1b756-cb23-485d-aa2a-5f90892bc9cf",
   "metadata": {},
   "outputs": [
    {
     "name": "stdout",
     "output_type": "stream",
     "text": [
      "datetime64[ns]\n"
     ]
    }
   ],
   "source": [
    "print(df['Date'].dtype)"
   ]
  },
  {
   "cell_type": "markdown",
   "id": "cb8687c0-aba9-4dce-b63b-93beb8677bbd",
   "metadata": {},
   "source": [
    "#### 📅 Extracting the Year,Month,Day : Creating a New Column from Date"
   ]
  },
  {
   "cell_type": "code",
   "execution_count": 30,
   "id": "324fd844-c237-40e1-8232-cd76f14d1226",
   "metadata": {},
   "outputs": [
    {
     "data": {
      "text/html": [
       "<div>\n",
       "<style scoped>\n",
       "    .dataframe tbody tr th:only-of-type {\n",
       "        vertical-align: middle;\n",
       "    }\n",
       "\n",
       "    .dataframe tbody tr th {\n",
       "        vertical-align: top;\n",
       "    }\n",
       "\n",
       "    .dataframe thead th {\n",
       "        text-align: right;\n",
       "    }\n",
       "</style>\n",
       "<table border=\"1\" class=\"dataframe\">\n",
       "  <thead>\n",
       "    <tr style=\"text-align: right;\">\n",
       "      <th></th>\n",
       "      <th>Date</th>\n",
       "      <th>Open</th>\n",
       "      <th>High</th>\n",
       "      <th>Low</th>\n",
       "      <th>Close</th>\n",
       "      <th>year</th>\n",
       "    </tr>\n",
       "  </thead>\n",
       "  <tbody>\n",
       "    <tr>\n",
       "      <th>0</th>\n",
       "      <td>2005-07-01</td>\n",
       "      <td>13.00</td>\n",
       "      <td>14.00</td>\n",
       "      <td>11.25</td>\n",
       "      <td>12.46</td>\n",
       "      <td>2005</td>\n",
       "    </tr>\n",
       "    <tr>\n",
       "      <th>1</th>\n",
       "      <td>2005-08-01</td>\n",
       "      <td>12.58</td>\n",
       "      <td>14.88</td>\n",
       "      <td>12.55</td>\n",
       "      <td>13.42</td>\n",
       "      <td>2005</td>\n",
       "    </tr>\n",
       "    <tr>\n",
       "      <th>2</th>\n",
       "      <td>2005-09-01</td>\n",
       "      <td>13.48</td>\n",
       "      <td>14.87</td>\n",
       "      <td>12.27</td>\n",
       "      <td>13.30</td>\n",
       "      <td>2005</td>\n",
       "    </tr>\n",
       "    <tr>\n",
       "      <th>3</th>\n",
       "      <td>2005-10-01</td>\n",
       "      <td>13.20</td>\n",
       "      <td>14.47</td>\n",
       "      <td>12.40</td>\n",
       "      <td>12.99</td>\n",
       "      <td>2005</td>\n",
       "    </tr>\n",
       "    <tr>\n",
       "      <th>4</th>\n",
       "      <td>2005-11-01</td>\n",
       "      <td>13.35</td>\n",
       "      <td>13.88</td>\n",
       "      <td>12.88</td>\n",
       "      <td>13.41</td>\n",
       "      <td>2005</td>\n",
       "    </tr>\n",
       "    <tr>\n",
       "      <th>...</th>\n",
       "      <td>...</td>\n",
       "      <td>...</td>\n",
       "      <td>...</td>\n",
       "      <td>...</td>\n",
       "      <td>...</td>\n",
       "      <td>...</td>\n",
       "    </tr>\n",
       "    <tr>\n",
       "      <th>180</th>\n",
       "      <td>2020-07-01</td>\n",
       "      <td>25.60</td>\n",
       "      <td>28.30</td>\n",
       "      <td>11.10</td>\n",
       "      <td>11.95</td>\n",
       "      <td>2020</td>\n",
       "    </tr>\n",
       "    <tr>\n",
       "      <th>181</th>\n",
       "      <td>2020-08-01</td>\n",
       "      <td>12.00</td>\n",
       "      <td>17.16</td>\n",
       "      <td>11.85</td>\n",
       "      <td>14.37</td>\n",
       "      <td>2020</td>\n",
       "    </tr>\n",
       "    <tr>\n",
       "      <th>182</th>\n",
       "      <td>2020-09-01</td>\n",
       "      <td>14.30</td>\n",
       "      <td>15.34</td>\n",
       "      <td>12.75</td>\n",
       "      <td>13.15</td>\n",
       "      <td>2020</td>\n",
       "    </tr>\n",
       "    <tr>\n",
       "      <th>183</th>\n",
       "      <td>2020-10-01</td>\n",
       "      <td>13.30</td>\n",
       "      <td>14.01</td>\n",
       "      <td>12.11</td>\n",
       "      <td>12.42</td>\n",
       "      <td>2020</td>\n",
       "    </tr>\n",
       "    <tr>\n",
       "      <th>184</th>\n",
       "      <td>2020-11-01</td>\n",
       "      <td>12.41</td>\n",
       "      <td>14.90</td>\n",
       "      <td>12.21</td>\n",
       "      <td>14.67</td>\n",
       "      <td>2020</td>\n",
       "    </tr>\n",
       "  </tbody>\n",
       "</table>\n",
       "<p>185 rows × 6 columns</p>\n",
       "</div>"
      ],
      "text/plain": [
       "          Date   Open   High    Low  Close  year\n",
       "0   2005-07-01  13.00  14.00  11.25  12.46  2005\n",
       "1   2005-08-01  12.58  14.88  12.55  13.42  2005\n",
       "2   2005-09-01  13.48  14.87  12.27  13.30  2005\n",
       "3   2005-10-01  13.20  14.47  12.40  12.99  2005\n",
       "4   2005-11-01  13.35  13.88  12.88  13.41  2005\n",
       "..         ...    ...    ...    ...    ...   ...\n",
       "180 2020-07-01  25.60  28.30  11.10  11.95  2020\n",
       "181 2020-08-01  12.00  17.16  11.85  14.37  2020\n",
       "182 2020-09-01  14.30  15.34  12.75  13.15  2020\n",
       "183 2020-10-01  13.30  14.01  12.11  12.42  2020\n",
       "184 2020-11-01  12.41  14.90  12.21  14.67  2020\n",
       "\n",
       "[185 rows x 6 columns]"
      ]
     },
     "execution_count": 30,
     "metadata": {},
     "output_type": "execute_result"
    }
   ],
   "source": [
    "df['year'] = df['Date'].dt.year\n",
    "df"
   ]
  },
  {
   "cell_type": "code",
   "execution_count": 31,
   "id": "37805c55-c964-4c14-a15e-92bc78dc1cde",
   "metadata": {},
   "outputs": [
    {
     "data": {
      "text/html": [
       "<div>\n",
       "<style scoped>\n",
       "    .dataframe tbody tr th:only-of-type {\n",
       "        vertical-align: middle;\n",
       "    }\n",
       "\n",
       "    .dataframe tbody tr th {\n",
       "        vertical-align: top;\n",
       "    }\n",
       "\n",
       "    .dataframe thead th {\n",
       "        text-align: right;\n",
       "    }\n",
       "</style>\n",
       "<table border=\"1\" class=\"dataframe\">\n",
       "  <thead>\n",
       "    <tr style=\"text-align: right;\">\n",
       "      <th></th>\n",
       "      <th>Date</th>\n",
       "      <th>Open</th>\n",
       "      <th>High</th>\n",
       "      <th>Low</th>\n",
       "      <th>Close</th>\n",
       "      <th>year</th>\n",
       "      <th>Month</th>\n",
       "    </tr>\n",
       "  </thead>\n",
       "  <tbody>\n",
       "    <tr>\n",
       "      <th>0</th>\n",
       "      <td>2005-07-01</td>\n",
       "      <td>13.00</td>\n",
       "      <td>14.00</td>\n",
       "      <td>11.25</td>\n",
       "      <td>12.46</td>\n",
       "      <td>2005</td>\n",
       "      <td>7</td>\n",
       "    </tr>\n",
       "    <tr>\n",
       "      <th>1</th>\n",
       "      <td>2005-08-01</td>\n",
       "      <td>12.58</td>\n",
       "      <td>14.88</td>\n",
       "      <td>12.55</td>\n",
       "      <td>13.42</td>\n",
       "      <td>2005</td>\n",
       "      <td>8</td>\n",
       "    </tr>\n",
       "    <tr>\n",
       "      <th>2</th>\n",
       "      <td>2005-09-01</td>\n",
       "      <td>13.48</td>\n",
       "      <td>14.87</td>\n",
       "      <td>12.27</td>\n",
       "      <td>13.30</td>\n",
       "      <td>2005</td>\n",
       "      <td>9</td>\n",
       "    </tr>\n",
       "    <tr>\n",
       "      <th>3</th>\n",
       "      <td>2005-10-01</td>\n",
       "      <td>13.20</td>\n",
       "      <td>14.47</td>\n",
       "      <td>12.40</td>\n",
       "      <td>12.99</td>\n",
       "      <td>2005</td>\n",
       "      <td>10</td>\n",
       "    </tr>\n",
       "    <tr>\n",
       "      <th>4</th>\n",
       "      <td>2005-11-01</td>\n",
       "      <td>13.35</td>\n",
       "      <td>13.88</td>\n",
       "      <td>12.88</td>\n",
       "      <td>13.41</td>\n",
       "      <td>2005</td>\n",
       "      <td>11</td>\n",
       "    </tr>\n",
       "    <tr>\n",
       "      <th>...</th>\n",
       "      <td>...</td>\n",
       "      <td>...</td>\n",
       "      <td>...</td>\n",
       "      <td>...</td>\n",
       "      <td>...</td>\n",
       "      <td>...</td>\n",
       "      <td>...</td>\n",
       "    </tr>\n",
       "    <tr>\n",
       "      <th>180</th>\n",
       "      <td>2020-07-01</td>\n",
       "      <td>25.60</td>\n",
       "      <td>28.30</td>\n",
       "      <td>11.10</td>\n",
       "      <td>11.95</td>\n",
       "      <td>2020</td>\n",
       "      <td>7</td>\n",
       "    </tr>\n",
       "    <tr>\n",
       "      <th>181</th>\n",
       "      <td>2020-08-01</td>\n",
       "      <td>12.00</td>\n",
       "      <td>17.16</td>\n",
       "      <td>11.85</td>\n",
       "      <td>14.37</td>\n",
       "      <td>2020</td>\n",
       "      <td>8</td>\n",
       "    </tr>\n",
       "    <tr>\n",
       "      <th>182</th>\n",
       "      <td>2020-09-01</td>\n",
       "      <td>14.30</td>\n",
       "      <td>15.34</td>\n",
       "      <td>12.75</td>\n",
       "      <td>13.15</td>\n",
       "      <td>2020</td>\n",
       "      <td>9</td>\n",
       "    </tr>\n",
       "    <tr>\n",
       "      <th>183</th>\n",
       "      <td>2020-10-01</td>\n",
       "      <td>13.30</td>\n",
       "      <td>14.01</td>\n",
       "      <td>12.11</td>\n",
       "      <td>12.42</td>\n",
       "      <td>2020</td>\n",
       "      <td>10</td>\n",
       "    </tr>\n",
       "    <tr>\n",
       "      <th>184</th>\n",
       "      <td>2020-11-01</td>\n",
       "      <td>12.41</td>\n",
       "      <td>14.90</td>\n",
       "      <td>12.21</td>\n",
       "      <td>14.67</td>\n",
       "      <td>2020</td>\n",
       "      <td>11</td>\n",
       "    </tr>\n",
       "  </tbody>\n",
       "</table>\n",
       "<p>185 rows × 7 columns</p>\n",
       "</div>"
      ],
      "text/plain": [
       "          Date   Open   High    Low  Close  year  Month\n",
       "0   2005-07-01  13.00  14.00  11.25  12.46  2005      7\n",
       "1   2005-08-01  12.58  14.88  12.55  13.42  2005      8\n",
       "2   2005-09-01  13.48  14.87  12.27  13.30  2005      9\n",
       "3   2005-10-01  13.20  14.47  12.40  12.99  2005     10\n",
       "4   2005-11-01  13.35  13.88  12.88  13.41  2005     11\n",
       "..         ...    ...    ...    ...    ...   ...    ...\n",
       "180 2020-07-01  25.60  28.30  11.10  11.95  2020      7\n",
       "181 2020-08-01  12.00  17.16  11.85  14.37  2020      8\n",
       "182 2020-09-01  14.30  15.34  12.75  13.15  2020      9\n",
       "183 2020-10-01  13.30  14.01  12.11  12.42  2020     10\n",
       "184 2020-11-01  12.41  14.90  12.21  14.67  2020     11\n",
       "\n",
       "[185 rows x 7 columns]"
      ]
     },
     "execution_count": 31,
     "metadata": {},
     "output_type": "execute_result"
    }
   ],
   "source": [
    "df['Month'] = df['Date'].dt.month\n",
    "df"
   ]
  },
  {
   "cell_type": "code",
   "execution_count": 32,
   "id": "d42a0c84-796a-4d94-85a9-b7c1d99b7d2c",
   "metadata": {},
   "outputs": [
    {
     "data": {
      "text/html": [
       "<div>\n",
       "<style scoped>\n",
       "    .dataframe tbody tr th:only-of-type {\n",
       "        vertical-align: middle;\n",
       "    }\n",
       "\n",
       "    .dataframe tbody tr th {\n",
       "        vertical-align: top;\n",
       "    }\n",
       "\n",
       "    .dataframe thead th {\n",
       "        text-align: right;\n",
       "    }\n",
       "</style>\n",
       "<table border=\"1\" class=\"dataframe\">\n",
       "  <thead>\n",
       "    <tr style=\"text-align: right;\">\n",
       "      <th></th>\n",
       "      <th>Date</th>\n",
       "      <th>Open</th>\n",
       "      <th>High</th>\n",
       "      <th>Low</th>\n",
       "      <th>Close</th>\n",
       "      <th>year</th>\n",
       "      <th>Month</th>\n",
       "      <th>day</th>\n",
       "    </tr>\n",
       "  </thead>\n",
       "  <tbody>\n",
       "    <tr>\n",
       "      <th>0</th>\n",
       "      <td>2005-07-01</td>\n",
       "      <td>13.00</td>\n",
       "      <td>14.00</td>\n",
       "      <td>11.25</td>\n",
       "      <td>12.46</td>\n",
       "      <td>2005</td>\n",
       "      <td>7</td>\n",
       "      <td>1</td>\n",
       "    </tr>\n",
       "    <tr>\n",
       "      <th>1</th>\n",
       "      <td>2005-08-01</td>\n",
       "      <td>12.58</td>\n",
       "      <td>14.88</td>\n",
       "      <td>12.55</td>\n",
       "      <td>13.42</td>\n",
       "      <td>2005</td>\n",
       "      <td>8</td>\n",
       "      <td>1</td>\n",
       "    </tr>\n",
       "    <tr>\n",
       "      <th>2</th>\n",
       "      <td>2005-09-01</td>\n",
       "      <td>13.48</td>\n",
       "      <td>14.87</td>\n",
       "      <td>12.27</td>\n",
       "      <td>13.30</td>\n",
       "      <td>2005</td>\n",
       "      <td>9</td>\n",
       "      <td>1</td>\n",
       "    </tr>\n",
       "    <tr>\n",
       "      <th>3</th>\n",
       "      <td>2005-10-01</td>\n",
       "      <td>13.20</td>\n",
       "      <td>14.47</td>\n",
       "      <td>12.40</td>\n",
       "      <td>12.99</td>\n",
       "      <td>2005</td>\n",
       "      <td>10</td>\n",
       "      <td>1</td>\n",
       "    </tr>\n",
       "    <tr>\n",
       "      <th>4</th>\n",
       "      <td>2005-11-01</td>\n",
       "      <td>13.35</td>\n",
       "      <td>13.88</td>\n",
       "      <td>12.88</td>\n",
       "      <td>13.41</td>\n",
       "      <td>2005</td>\n",
       "      <td>11</td>\n",
       "      <td>1</td>\n",
       "    </tr>\n",
       "    <tr>\n",
       "      <th>...</th>\n",
       "      <td>...</td>\n",
       "      <td>...</td>\n",
       "      <td>...</td>\n",
       "      <td>...</td>\n",
       "      <td>...</td>\n",
       "      <td>...</td>\n",
       "      <td>...</td>\n",
       "      <td>...</td>\n",
       "    </tr>\n",
       "    <tr>\n",
       "      <th>180</th>\n",
       "      <td>2020-07-01</td>\n",
       "      <td>25.60</td>\n",
       "      <td>28.30</td>\n",
       "      <td>11.10</td>\n",
       "      <td>11.95</td>\n",
       "      <td>2020</td>\n",
       "      <td>7</td>\n",
       "      <td>1</td>\n",
       "    </tr>\n",
       "    <tr>\n",
       "      <th>181</th>\n",
       "      <td>2020-08-01</td>\n",
       "      <td>12.00</td>\n",
       "      <td>17.16</td>\n",
       "      <td>11.85</td>\n",
       "      <td>14.37</td>\n",
       "      <td>2020</td>\n",
       "      <td>8</td>\n",
       "      <td>1</td>\n",
       "    </tr>\n",
       "    <tr>\n",
       "      <th>182</th>\n",
       "      <td>2020-09-01</td>\n",
       "      <td>14.30</td>\n",
       "      <td>15.34</td>\n",
       "      <td>12.75</td>\n",
       "      <td>13.15</td>\n",
       "      <td>2020</td>\n",
       "      <td>9</td>\n",
       "      <td>1</td>\n",
       "    </tr>\n",
       "    <tr>\n",
       "      <th>183</th>\n",
       "      <td>2020-10-01</td>\n",
       "      <td>13.30</td>\n",
       "      <td>14.01</td>\n",
       "      <td>12.11</td>\n",
       "      <td>12.42</td>\n",
       "      <td>2020</td>\n",
       "      <td>10</td>\n",
       "      <td>1</td>\n",
       "    </tr>\n",
       "    <tr>\n",
       "      <th>184</th>\n",
       "      <td>2020-11-01</td>\n",
       "      <td>12.41</td>\n",
       "      <td>14.90</td>\n",
       "      <td>12.21</td>\n",
       "      <td>14.67</td>\n",
       "      <td>2020</td>\n",
       "      <td>11</td>\n",
       "      <td>1</td>\n",
       "    </tr>\n",
       "  </tbody>\n",
       "</table>\n",
       "<p>185 rows × 8 columns</p>\n",
       "</div>"
      ],
      "text/plain": [
       "          Date   Open   High    Low  Close  year  Month  day\n",
       "0   2005-07-01  13.00  14.00  11.25  12.46  2005      7    1\n",
       "1   2005-08-01  12.58  14.88  12.55  13.42  2005      8    1\n",
       "2   2005-09-01  13.48  14.87  12.27  13.30  2005      9    1\n",
       "3   2005-10-01  13.20  14.47  12.40  12.99  2005     10    1\n",
       "4   2005-11-01  13.35  13.88  12.88  13.41  2005     11    1\n",
       "..         ...    ...    ...    ...    ...   ...    ...  ...\n",
       "180 2020-07-01  25.60  28.30  11.10  11.95  2020      7    1\n",
       "181 2020-08-01  12.00  17.16  11.85  14.37  2020      8    1\n",
       "182 2020-09-01  14.30  15.34  12.75  13.15  2020      9    1\n",
       "183 2020-10-01  13.30  14.01  12.11  12.42  2020     10    1\n",
       "184 2020-11-01  12.41  14.90  12.21  14.67  2020     11    1\n",
       "\n",
       "[185 rows x 8 columns]"
      ]
     },
     "execution_count": 32,
     "metadata": {},
     "output_type": "execute_result"
    }
   ],
   "source": [
    "df['day'] = df['Date'].dt.day\n",
    "df"
   ]
  },
  {
   "cell_type": "code",
   "execution_count": 33,
   "id": "f716505d-a484-4b21-884e-f67d45387816",
   "metadata": {},
   "outputs": [
    {
     "data": {
      "text/html": [
       "<div>\n",
       "<style scoped>\n",
       "    .dataframe tbody tr th:only-of-type {\n",
       "        vertical-align: middle;\n",
       "    }\n",
       "\n",
       "    .dataframe tbody tr th {\n",
       "        vertical-align: top;\n",
       "    }\n",
       "\n",
       "    .dataframe thead th {\n",
       "        text-align: right;\n",
       "    }\n",
       "</style>\n",
       "<table border=\"1\" class=\"dataframe\">\n",
       "  <thead>\n",
       "    <tr style=\"text-align: right;\">\n",
       "      <th></th>\n",
       "      <th>Date</th>\n",
       "      <th>Open</th>\n",
       "      <th>High</th>\n",
       "      <th>Low</th>\n",
       "      <th>Close</th>\n",
       "      <th>year</th>\n",
       "      <th>Month</th>\n",
       "      <th>day</th>\n",
       "    </tr>\n",
       "  </thead>\n",
       "  <tbody>\n",
       "    <tr>\n",
       "      <th>0</th>\n",
       "      <td>2005-07-01</td>\n",
       "      <td>13.00</td>\n",
       "      <td>14.00</td>\n",
       "      <td>11.25</td>\n",
       "      <td>12.46</td>\n",
       "      <td>2005</td>\n",
       "      <td>7</td>\n",
       "      <td>Friday</td>\n",
       "    </tr>\n",
       "    <tr>\n",
       "      <th>1</th>\n",
       "      <td>2005-08-01</td>\n",
       "      <td>12.58</td>\n",
       "      <td>14.88</td>\n",
       "      <td>12.55</td>\n",
       "      <td>13.42</td>\n",
       "      <td>2005</td>\n",
       "      <td>8</td>\n",
       "      <td>Monday</td>\n",
       "    </tr>\n",
       "    <tr>\n",
       "      <th>2</th>\n",
       "      <td>2005-09-01</td>\n",
       "      <td>13.48</td>\n",
       "      <td>14.87</td>\n",
       "      <td>12.27</td>\n",
       "      <td>13.30</td>\n",
       "      <td>2005</td>\n",
       "      <td>9</td>\n",
       "      <td>Thursday</td>\n",
       "    </tr>\n",
       "    <tr>\n",
       "      <th>3</th>\n",
       "      <td>2005-10-01</td>\n",
       "      <td>13.20</td>\n",
       "      <td>14.47</td>\n",
       "      <td>12.40</td>\n",
       "      <td>12.99</td>\n",
       "      <td>2005</td>\n",
       "      <td>10</td>\n",
       "      <td>Saturday</td>\n",
       "    </tr>\n",
       "    <tr>\n",
       "      <th>4</th>\n",
       "      <td>2005-11-01</td>\n",
       "      <td>13.35</td>\n",
       "      <td>13.88</td>\n",
       "      <td>12.88</td>\n",
       "      <td>13.41</td>\n",
       "      <td>2005</td>\n",
       "      <td>11</td>\n",
       "      <td>Tuesday</td>\n",
       "    </tr>\n",
       "    <tr>\n",
       "      <th>...</th>\n",
       "      <td>...</td>\n",
       "      <td>...</td>\n",
       "      <td>...</td>\n",
       "      <td>...</td>\n",
       "      <td>...</td>\n",
       "      <td>...</td>\n",
       "      <td>...</td>\n",
       "      <td>...</td>\n",
       "    </tr>\n",
       "    <tr>\n",
       "      <th>180</th>\n",
       "      <td>2020-07-01</td>\n",
       "      <td>25.60</td>\n",
       "      <td>28.30</td>\n",
       "      <td>11.10</td>\n",
       "      <td>11.95</td>\n",
       "      <td>2020</td>\n",
       "      <td>7</td>\n",
       "      <td>Wednesday</td>\n",
       "    </tr>\n",
       "    <tr>\n",
       "      <th>181</th>\n",
       "      <td>2020-08-01</td>\n",
       "      <td>12.00</td>\n",
       "      <td>17.16</td>\n",
       "      <td>11.85</td>\n",
       "      <td>14.37</td>\n",
       "      <td>2020</td>\n",
       "      <td>8</td>\n",
       "      <td>Saturday</td>\n",
       "    </tr>\n",
       "    <tr>\n",
       "      <th>182</th>\n",
       "      <td>2020-09-01</td>\n",
       "      <td>14.30</td>\n",
       "      <td>15.34</td>\n",
       "      <td>12.75</td>\n",
       "      <td>13.15</td>\n",
       "      <td>2020</td>\n",
       "      <td>9</td>\n",
       "      <td>Tuesday</td>\n",
       "    </tr>\n",
       "    <tr>\n",
       "      <th>183</th>\n",
       "      <td>2020-10-01</td>\n",
       "      <td>13.30</td>\n",
       "      <td>14.01</td>\n",
       "      <td>12.11</td>\n",
       "      <td>12.42</td>\n",
       "      <td>2020</td>\n",
       "      <td>10</td>\n",
       "      <td>Thursday</td>\n",
       "    </tr>\n",
       "    <tr>\n",
       "      <th>184</th>\n",
       "      <td>2020-11-01</td>\n",
       "      <td>12.41</td>\n",
       "      <td>14.90</td>\n",
       "      <td>12.21</td>\n",
       "      <td>14.67</td>\n",
       "      <td>2020</td>\n",
       "      <td>11</td>\n",
       "      <td>Sunday</td>\n",
       "    </tr>\n",
       "  </tbody>\n",
       "</table>\n",
       "<p>185 rows × 8 columns</p>\n",
       "</div>"
      ],
      "text/plain": [
       "          Date   Open   High    Low  Close  year  Month        day\n",
       "0   2005-07-01  13.00  14.00  11.25  12.46  2005      7     Friday\n",
       "1   2005-08-01  12.58  14.88  12.55  13.42  2005      8     Monday\n",
       "2   2005-09-01  13.48  14.87  12.27  13.30  2005      9   Thursday\n",
       "3   2005-10-01  13.20  14.47  12.40  12.99  2005     10   Saturday\n",
       "4   2005-11-01  13.35  13.88  12.88  13.41  2005     11    Tuesday\n",
       "..         ...    ...    ...    ...    ...   ...    ...        ...\n",
       "180 2020-07-01  25.60  28.30  11.10  11.95  2020      7  Wednesday\n",
       "181 2020-08-01  12.00  17.16  11.85  14.37  2020      8   Saturday\n",
       "182 2020-09-01  14.30  15.34  12.75  13.15  2020      9    Tuesday\n",
       "183 2020-10-01  13.30  14.01  12.11  12.42  2020     10   Thursday\n",
       "184 2020-11-01  12.41  14.90  12.21  14.67  2020     11     Sunday\n",
       "\n",
       "[185 rows x 8 columns]"
      ]
     },
     "execution_count": 33,
     "metadata": {},
     "output_type": "execute_result"
    }
   ],
   "source": [
    "df['day'] = df['Date'].dt.day_name()\n",
    "df"
   ]
  },
  {
   "cell_type": "markdown",
   "id": "b675d2be-c856-4bef-beff-85725db5db68",
   "metadata": {},
   "source": [
    "#### Weekend Checker Function: Identifying Saturdays and Sundays"
   ]
  },
  {
   "cell_type": "code",
   "execution_count": 35,
   "id": "bb67fce9-e822-4d8a-a945-9f1afe6f3ea5",
   "metadata": {},
   "outputs": [],
   "source": [
    "def weekend(x):\n",
    "    if x=='Saturday'or x=='Sunday':\n",
    "        return 1\n",
    "    return 0"
   ]
  },
  {
   "cell_type": "markdown",
   "id": "09452175-2292-4eda-aad6-9621088c00d0",
   "metadata": {},
   "source": [
    "#### Marking Weekends in the Data"
   ]
  },
  {
   "cell_type": "code",
   "execution_count": 37,
   "id": "421360e1-7ece-447d-b21f-f60f4f933e6f",
   "metadata": {},
   "outputs": [
    {
     "data": {
      "text/html": [
       "<div>\n",
       "<style scoped>\n",
       "    .dataframe tbody tr th:only-of-type {\n",
       "        vertical-align: middle;\n",
       "    }\n",
       "\n",
       "    .dataframe tbody tr th {\n",
       "        vertical-align: top;\n",
       "    }\n",
       "\n",
       "    .dataframe thead th {\n",
       "        text-align: right;\n",
       "    }\n",
       "</style>\n",
       "<table border=\"1\" class=\"dataframe\">\n",
       "  <thead>\n",
       "    <tr style=\"text-align: right;\">\n",
       "      <th></th>\n",
       "      <th>Date</th>\n",
       "      <th>Open</th>\n",
       "      <th>High</th>\n",
       "      <th>Low</th>\n",
       "      <th>Close</th>\n",
       "      <th>year</th>\n",
       "      <th>Month</th>\n",
       "      <th>day</th>\n",
       "      <th>weekend</th>\n",
       "    </tr>\n",
       "  </thead>\n",
       "  <tbody>\n",
       "    <tr>\n",
       "      <th>0</th>\n",
       "      <td>2005-07-01</td>\n",
       "      <td>13.00</td>\n",
       "      <td>14.00</td>\n",
       "      <td>11.25</td>\n",
       "      <td>12.46</td>\n",
       "      <td>2005</td>\n",
       "      <td>7</td>\n",
       "      <td>Friday</td>\n",
       "      <td>0</td>\n",
       "    </tr>\n",
       "    <tr>\n",
       "      <th>1</th>\n",
       "      <td>2005-08-01</td>\n",
       "      <td>12.58</td>\n",
       "      <td>14.88</td>\n",
       "      <td>12.55</td>\n",
       "      <td>13.42</td>\n",
       "      <td>2005</td>\n",
       "      <td>8</td>\n",
       "      <td>Monday</td>\n",
       "      <td>0</td>\n",
       "    </tr>\n",
       "    <tr>\n",
       "      <th>2</th>\n",
       "      <td>2005-09-01</td>\n",
       "      <td>13.48</td>\n",
       "      <td>14.87</td>\n",
       "      <td>12.27</td>\n",
       "      <td>13.30</td>\n",
       "      <td>2005</td>\n",
       "      <td>9</td>\n",
       "      <td>Thursday</td>\n",
       "      <td>0</td>\n",
       "    </tr>\n",
       "    <tr>\n",
       "      <th>3</th>\n",
       "      <td>2005-10-01</td>\n",
       "      <td>13.20</td>\n",
       "      <td>14.47</td>\n",
       "      <td>12.40</td>\n",
       "      <td>12.99</td>\n",
       "      <td>2005</td>\n",
       "      <td>10</td>\n",
       "      <td>Saturday</td>\n",
       "      <td>1</td>\n",
       "    </tr>\n",
       "    <tr>\n",
       "      <th>4</th>\n",
       "      <td>2005-11-01</td>\n",
       "      <td>13.35</td>\n",
       "      <td>13.88</td>\n",
       "      <td>12.88</td>\n",
       "      <td>13.41</td>\n",
       "      <td>2005</td>\n",
       "      <td>11</td>\n",
       "      <td>Tuesday</td>\n",
       "      <td>0</td>\n",
       "    </tr>\n",
       "    <tr>\n",
       "      <th>...</th>\n",
       "      <td>...</td>\n",
       "      <td>...</td>\n",
       "      <td>...</td>\n",
       "      <td>...</td>\n",
       "      <td>...</td>\n",
       "      <td>...</td>\n",
       "      <td>...</td>\n",
       "      <td>...</td>\n",
       "      <td>...</td>\n",
       "    </tr>\n",
       "    <tr>\n",
       "      <th>180</th>\n",
       "      <td>2020-07-01</td>\n",
       "      <td>25.60</td>\n",
       "      <td>28.30</td>\n",
       "      <td>11.10</td>\n",
       "      <td>11.95</td>\n",
       "      <td>2020</td>\n",
       "      <td>7</td>\n",
       "      <td>Wednesday</td>\n",
       "      <td>0</td>\n",
       "    </tr>\n",
       "    <tr>\n",
       "      <th>181</th>\n",
       "      <td>2020-08-01</td>\n",
       "      <td>12.00</td>\n",
       "      <td>17.16</td>\n",
       "      <td>11.85</td>\n",
       "      <td>14.37</td>\n",
       "      <td>2020</td>\n",
       "      <td>8</td>\n",
       "      <td>Saturday</td>\n",
       "      <td>1</td>\n",
       "    </tr>\n",
       "    <tr>\n",
       "      <th>182</th>\n",
       "      <td>2020-09-01</td>\n",
       "      <td>14.30</td>\n",
       "      <td>15.34</td>\n",
       "      <td>12.75</td>\n",
       "      <td>13.15</td>\n",
       "      <td>2020</td>\n",
       "      <td>9</td>\n",
       "      <td>Tuesday</td>\n",
       "      <td>0</td>\n",
       "    </tr>\n",
       "    <tr>\n",
       "      <th>183</th>\n",
       "      <td>2020-10-01</td>\n",
       "      <td>13.30</td>\n",
       "      <td>14.01</td>\n",
       "      <td>12.11</td>\n",
       "      <td>12.42</td>\n",
       "      <td>2020</td>\n",
       "      <td>10</td>\n",
       "      <td>Thursday</td>\n",
       "      <td>0</td>\n",
       "    </tr>\n",
       "    <tr>\n",
       "      <th>184</th>\n",
       "      <td>2020-11-01</td>\n",
       "      <td>12.41</td>\n",
       "      <td>14.90</td>\n",
       "      <td>12.21</td>\n",
       "      <td>14.67</td>\n",
       "      <td>2020</td>\n",
       "      <td>11</td>\n",
       "      <td>Sunday</td>\n",
       "      <td>1</td>\n",
       "    </tr>\n",
       "  </tbody>\n",
       "</table>\n",
       "<p>185 rows × 9 columns</p>\n",
       "</div>"
      ],
      "text/plain": [
       "          Date   Open   High    Low  Close  year  Month        day  weekend\n",
       "0   2005-07-01  13.00  14.00  11.25  12.46  2005      7     Friday        0\n",
       "1   2005-08-01  12.58  14.88  12.55  13.42  2005      8     Monday        0\n",
       "2   2005-09-01  13.48  14.87  12.27  13.30  2005      9   Thursday        0\n",
       "3   2005-10-01  13.20  14.47  12.40  12.99  2005     10   Saturday        1\n",
       "4   2005-11-01  13.35  13.88  12.88  13.41  2005     11    Tuesday        0\n",
       "..         ...    ...    ...    ...    ...   ...    ...        ...      ...\n",
       "180 2020-07-01  25.60  28.30  11.10  11.95  2020      7  Wednesday        0\n",
       "181 2020-08-01  12.00  17.16  11.85  14.37  2020      8   Saturday        1\n",
       "182 2020-09-01  14.30  15.34  12.75  13.15  2020      9    Tuesday        0\n",
       "183 2020-10-01  13.30  14.01  12.11  12.42  2020     10   Thursday        0\n",
       "184 2020-11-01  12.41  14.90  12.21  14.67  2020     11     Sunday        1\n",
       "\n",
       "[185 rows x 9 columns]"
      ]
     },
     "execution_count": 37,
     "metadata": {},
     "output_type": "execute_result"
    }
   ],
   "source": [
    "df['weekend']=df['day'].apply(weekend)\n",
    "df"
   ]
  },
  {
   "cell_type": "code",
   "execution_count": 38,
   "id": "5c8382b1-4006-457a-b429-60405b5e69f4",
   "metadata": {},
   "outputs": [
    {
     "data": {
      "text/plain": [
       "(185, 9)"
      ]
     },
     "execution_count": 38,
     "metadata": {},
     "output_type": "execute_result"
    }
   ],
   "source": [
    "df.shape"
   ]
  },
  {
   "cell_type": "code",
   "execution_count": 39,
   "id": "944534a6-4f5c-4765-974e-6447ca1ac50a",
   "metadata": {},
   "outputs": [
    {
     "name": "stdout",
     "output_type": "stream",
     "text": [
      "object\n"
     ]
    }
   ],
   "source": [
    "print(df['day'].dtype)"
   ]
  },
  {
   "cell_type": "markdown",
   "id": "26277e29-3efa-4d6f-bad4-d6ace0defbc4",
   "metadata": {},
   "source": [
    "#### Since day is categorical data,let's change datatype of it:"
   ]
  },
  {
   "cell_type": "code",
   "execution_count": 41,
   "id": "d94fc50f-bdd5-45be-93c7-654dc2e13a9c",
   "metadata": {},
   "outputs": [
    {
     "name": "stdout",
     "output_type": "stream",
     "text": [
      "category\n"
     ]
    }
   ],
   "source": [
    "df['day']=df['day'].astype('category')\n",
    "print(df['day'].dtypes)  "
   ]
  },
  {
   "cell_type": "code",
   "execution_count": 42,
   "id": "44435652-45e7-4fae-bc38-cf30e51fecfd",
   "metadata": {},
   "outputs": [
    {
     "name": "stdout",
     "output_type": "stream",
     "text": [
      "int32\n"
     ]
    }
   ],
   "source": [
    "print(df['Month'].dtypes) "
   ]
  },
  {
   "cell_type": "code",
   "execution_count": 43,
   "id": "b083283f-30ad-4809-8263-ebe1616d06ed",
   "metadata": {},
   "outputs": [
    {
     "name": "stdout",
     "output_type": "stream",
     "text": [
      "int64\n"
     ]
    }
   ],
   "source": [
    "print(df['weekend'].dtypes) "
   ]
  },
  {
   "cell_type": "markdown",
   "id": "e210da5f-62fe-4376-9d54-255b1a6d825d",
   "metadata": {},
   "source": [
    "#### Exploratory data analysis\n",
    "#### 1. Univariate analysis\n",
    "\n"
   ]
  },
  {
   "cell_type": "markdown",
   "id": "33f085b7-3e9c-4b50-b618-40ae443ab6ee",
   "metadata": {},
   "source": [
    "#### Histogram of Close Prices"
   ]
  },
  {
   "cell_type": "code",
   "execution_count": 46,
   "id": "7cf63d63-8c74-48bb-9b48-04683366bdd8",
   "metadata": {},
   "outputs": [
    {
     "data": {
      "image/png": "[encoded data removed]",
      "text/plain": [
       "<Figure size 1000x400 with 1 Axes>"
      ]
     },
     "metadata": {},
     "output_type": "display_data"
    }
   ],
   "source": [
    "plt.figure(figsize=(10,4))\n",
    "sns.histplot(df['Close'],kde=True,bins=30)\n",
    "plt.title(\"distribution of close prices\")\n",
    "plt.xlabel(\"close\")\n",
    "plt.ylabel(\"frequency\")\n",
    "plt.show()"
   ]
  },
  {
   "cell_type": "markdown",
   "id": "65ae9c1c-4cbf-453a-b3d8-09881d8406b7",
   "metadata": {},
   "source": [
    "#### observations"
   ]
  },
  {
   "cell_type": "markdown",
   "id": "43705fb1-5f6f-4162-8763-b0d647dfa2ad",
   "metadata": {},
   "source": [
    "1.The distribution is right-skewed\n",
    "This means most closing prices are on the lower side, and only a few times the price was very high.\n",
    "2.Most values are between ₹0 and ₹100\n",
    "It shows that Yes Bank stock usually closed at lower prices, and high prices are not common.\n",
    "\n"
   ]
  },
  {
   "cell_type": "code",
   "execution_count": 49,
   "id": "48dc5b74-ab0d-49be-b159-0d96a890f10f",
   "metadata": {},
   "outputs": [
    {
     "data": {
      "text/html": [
       "<div>\n",
       "<style scoped>\n",
       "    .dataframe tbody tr th:only-of-type {\n",
       "        vertical-align: middle;\n",
       "    }\n",
       "\n",
       "    .dataframe tbody tr th {\n",
       "        vertical-align: top;\n",
       "    }\n",
       "\n",
       "    .dataframe thead th {\n",
       "        text-align: right;\n",
       "    }\n",
       "</style>\n",
       "<table border=\"1\" class=\"dataframe\">\n",
       "  <thead>\n",
       "    <tr style=\"text-align: right;\">\n",
       "      <th></th>\n",
       "      <th>Date</th>\n",
       "      <th>Open</th>\n",
       "      <th>High</th>\n",
       "      <th>Low</th>\n",
       "      <th>Close</th>\n",
       "      <th>year</th>\n",
       "      <th>Month</th>\n",
       "      <th>day</th>\n",
       "      <th>weekend</th>\n",
       "    </tr>\n",
       "  </thead>\n",
       "  <tbody>\n",
       "    <tr>\n",
       "      <th>0</th>\n",
       "      <td>2005-07-01</td>\n",
       "      <td>13.00</td>\n",
       "      <td>14.00</td>\n",
       "      <td>11.25</td>\n",
       "      <td>12.46</td>\n",
       "      <td>2005</td>\n",
       "      <td>7</td>\n",
       "      <td>Friday</td>\n",
       "      <td>0</td>\n",
       "    </tr>\n",
       "    <tr>\n",
       "      <th>1</th>\n",
       "      <td>2005-08-01</td>\n",
       "      <td>12.58</td>\n",
       "      <td>14.88</td>\n",
       "      <td>12.55</td>\n",
       "      <td>13.42</td>\n",
       "      <td>2005</td>\n",
       "      <td>8</td>\n",
       "      <td>Monday</td>\n",
       "      <td>0</td>\n",
       "    </tr>\n",
       "  </tbody>\n",
       "</table>\n",
       "</div>"
      ],
      "text/plain": [
       "        Date   Open   High    Low  Close  year  Month     day  weekend\n",
       "0 2005-07-01  13.00  14.00  11.25  12.46  2005      7  Friday        0\n",
       "1 2005-08-01  12.58  14.88  12.55  13.42  2005      8  Monday        0"
      ]
     },
     "execution_count": 49,
     "metadata": {},
     "output_type": "execute_result"
    }
   ],
   "source": [
    "df.head(2)"
   ]
  },
  {
   "cell_type": "code",
   "execution_count": 50,
   "id": "73dc5ac3-753f-4dfb-8bcd-3419274a3118",
   "metadata": {},
   "outputs": [
    {
     "data": {
      "image/png": "[encoded data removed]",
      "text/plain": [
       "<Figure size 1000x400 with 1 Axes>"
      ]
     },
     "metadata": {},
     "output_type": "display_data"
    }
   ],
   "source": [
    "plt.figure(figsize=(10,4))\n",
    "sns.lineplot(x='Date', y='Open', data=df, color='orange')\n",
    "plt.title('Open Price Over Time')\n",
    "plt.xlabel('Date')\n",
    "plt.ylabel('Open Price')\n",
    "plt.show()\n",
    "# Insight: Trends or volatility over time are visible her\n"
   ]
  },
  {
   "cell_type": "markdown",
   "id": "c8096ce8-6f5a-4d12-b596-d9e816cc95e4",
   "metadata": {},
   "source": [
    "#### Bar Plot"
   ]
  },
  {
   "cell_type": "code",
   "execution_count": 52,
   "id": "a40d580e-75ad-49a4-aab4-a7b8de2a17b0",
   "metadata": {},
   "outputs": [
    {
     "data": {
      "image/png": "[encoded data removed]",
      "text/plain": [
       "<Figure size 1000x400 with 1 Axes>"
      ]
     },
     "metadata": {},
     "output_type": "display_data"
    }
   ],
   "source": [
    "monthly_avg=df.groupby('Month')['Close'].mean()\n",
    "monthly_avg.plot(kind='bar',\n",
    "figsize=(10,4))\n",
    "plt.title(\"average close price per month\")\n",
    "plt.ylabel(\" Average of Close Price\")\n",
    "plt.xlabel(\"month\")\n",
    "plt.show()\n"
   ]
  },
  {
   "cell_type": "markdown",
   "id": "2effe885-df00-4164-9e56-92b06020d595",
   "metadata": {},
   "source": [
    "#### observations"
   ]
  },
  {
   "cell_type": "markdown",
   "id": "02dd595d-eb6d-412e-951d-83cf15b183e6",
   "metadata": {},
   "source": [
    "1.April has the highest average closing price\n",
    "This means Yes Bank's stock usually performs best in April.\n",
    "\n",
    "2.November has the lowest average price\n",
    "So, the stock performs the worst in November on average.\n",
    "\n"
   ]
  },
  {
   "cell_type": "markdown",
   "id": "1b14a61c-988c-4e15-a348-591f5de549fa",
   "metadata": {},
   "source": [
    "#### Bivariate analysis: \n",
    "Bivariate analysis is a visualization when two variables are involved"
   ]
  },
  {
   "cell_type": "code",
   "execution_count": 56,
   "id": "af9864cb-c580-4de0-80c8-47080483343f",
   "metadata": {},
   "outputs": [
    {
     "data": {
      "image/png": "[encoded data removed]",
      "text/plain": [
       "<Figure size 1000x400 with 1 Axes>"
      ]
     },
     "metadata": {},
     "output_type": "display_data"
    }
   ],
   "source": [
    "plt.figure(figsize=(10,4))\n",
    "sns.scatterplot(x=df['High'],y=df['Low'])\n",
    "plt.title(\"High vs Low\")\n",
    "plt.xlabel(\"High price\")\n",
    "plt.ylabel(\"Low price\")\n",
    "plt.show()"
   ]
  },
  {
   "cell_type": "markdown",
   "id": "6ac5846a-3e03-4e36-a93e-3b1be660aa26",
   "metadata": {},
   "source": [
    "#### observation\n",
    "The scatter plot shows a strong positive correlation between high and low prices. As the high price increases, the low price also tends to rise proportionally."
   ]
  },
  {
   "cell_type": "code",
   "execution_count": 58,
   "id": "4f361092-0138-4f1b-a0bd-807b3d5270f6",
   "metadata": {},
   "outputs": [
    {
     "data": {
      "image/png": "[encoded data removed]",
      "text/plain": [
       "<Figure size 1000x400 with 1 Axes>"
      ]
     },
     "metadata": {},
     "output_type": "display_data"
    }
   ],
   "source": [
    "plt.figure(figsize=(10,4))\n",
    "plt.plot(df['Date'], df['Open'], label='Open Price', color='orange')\n",
    "plt.plot(df['Date'], df['Close'], label='Close Price', color='blue')\n",
    "plt.title('Open vs Close Price Over Time ')\n",
    "plt.xlabel('Date')\n",
    "plt.ylabel('Price')\n",
    "plt.show()"
   ]
  },
  {
   "cell_type": "markdown",
   "id": "2247986c-3b8d-456c-8c69-d98ec10142ea",
   "metadata": {},
   "source": [
    "#### Observation:\n",
    "The stock prices of Yes Bank showed a steady growth from 2005 to 2018, reaching their peak around 2018. However, after 2018, there was a sharp and continuous decline in both open and close prices, indicating a major financial downturn for the bank."
   ]
  },
  {
   "cell_type": "markdown",
   "id": "24b4936e-bc84-40fb-87da-5df3d08f8af3",
   "metadata": {},
   "source": [
    "#### BarPlot"
   ]
  },
  {
   "cell_type": "code",
   "execution_count": 60,
   "id": "58fbf88b-2cc8-484b-b02b-f6a19edae82a",
   "metadata": {},
   "outputs": [
    {
     "data": {
      "image/png": "[encoded data removed]",
      "text/plain": [
       "<Figure size 1000x400 with 1 Axes>"
      ]
     },
     "metadata": {},
     "output_type": "display_data"
    }
   ],
   "source": [
    "plt.figure(figsize=(10,4))\n",
    "sns.barplot(x='weekend', y='Close', data=df, ci=None, palette='Set2')\n",
    "plt.title('Average Close Price: Weekday vs Weekend')\n",
    "plt.xlabel('Day Type')\n",
    "plt.ylabel('Average Close Price')\n",
    "plt.xticks([0, 1], ['Weekday', 'Weekend']) \n",
    "plt.show()"
   ]
  },
  {
   "cell_type": "markdown",
   "id": "8b05812f-04f8-4dd7-beb0-ac1a8da3360d",
   "metadata": {},
   "source": [
    "#### observation\n",
    "he average close price is slightly higher on weekdays compared to weekends. This suggests that stock prices tend to perform better during the weekday trading sessions."
   ]
  },
  {
   "cell_type": "markdown",
   "id": "e8e6e84c-5b17-4961-8203-d2ee0a2c57a6",
   "metadata": {},
   "source": [
    "#### 3. Multivariate analysis:\n",
    "**Multivariate analysis is the process of examining more than two variables simultaneously to understand the relationships between them. It helps identify patterns and interactions that might not be visible when looking at only one or two variables at a time.**\n",
    "\n"
   ]
  },
  {
   "cell_type": "markdown",
   "id": "ec7d0556-0d12-4209-b2de-cea7627a9114",
   "metadata": {},
   "source": [
    " #### Line Plot"
   ]
  },
  {
   "cell_type": "code",
   "execution_count": 64,
   "id": "d387cb24-8c34-4cd7-b274-17365209436f",
   "metadata": {},
   "outputs": [
    {
     "data": {
      "image/png": "[encoded data removed]",
      "text/plain": [
       "<Figure size 1000x400 with 1 Axes>"
      ]
     },
     "metadata": {},
     "output_type": "display_data"
    }
   ],
   "source": [
    "plt.figure(figsize=(10,4))\n",
    "plt.plot(df.index, df['Open'], label='Open', linestyle='--')\n",
    "plt.plot(df.index, df['High'], label='High', linestyle='-.')\n",
    "plt.plot(df.index, df['Low'], label='Low', linestyle=':')\n",
    "plt.plot(df.index, df['Close'], label='Close', linestyle='-')\n",
    "plt.title('Stock Price Metrics Over Time (Index-Based)')\n",
    "plt.xlabel('Index')\n",
    "plt.ylabel('Price')\n",
    "plt.legend()\n",
    "plt.tight_layout()\n",
    "plt.show()"
   ]
  },
  {
   "cell_type": "markdown",
   "id": "0a2f5a85-ea23-4d1e-bb1a-8bca76ccdad2",
   "metadata": {},
   "source": [
    "#### Observation:\n",
    "1.The Open, Close, and Low stock prices of Yes Bank moved closely together, showing a consistent upward trend until around index 140, followed by a sharp decline. \n",
    "2.The High price consistently remained above the other three metrics but followed the same overall trend, peaking higher during the stock’s growth phase and declining sharply during the downturn."
   ]
  },
  {
   "cell_type": "markdown",
   "id": "0421d550-caf8-42f8-bb68-a83431d091d1",
   "metadata": {},
   "source": [
    "#### Heatmap"
   ]
  },
  {
   "cell_type": "code",
   "execution_count": 66,
   "id": "b9b5b32c-7a26-46dd-8c6d-f73e52beec88",
   "metadata": {},
   "outputs": [
    {
     "data": {
      "image/png": "[encoded data removed]",
      "text/plain": [
       "<Figure size 1000x400 with 2 Axes>"
      ]
     },
     "metadata": {},
     "output_type": "display_data"
    }
   ],
   "source": [
    "plt.figure(figsize=(10, 4))\n",
    "correlation_matrix=df[['Open','High','Low','Close']].corr()\n",
    "sns.heatmap(correlation_matrix, annot=True,  cmap=\"crest\", fmt='.2f')\n",
    "plt.title('Correlation Heatmap')\n",
    "plt.show()"
   ]
  },
  {
   "cell_type": "markdown",
   "id": "fc62999d-9def-4af9-bfc9-814bee9a91ed",
   "metadata": {},
   "source": [
    "#### observation\n",
    "The heatmap shows a very strong positive correlation between all the variables (Open, High, Low, Close) in the dataset. Notably, 'Close' and 'Low' prices have a perfect correlation of 1.00, indicating they move together almost identically."
   ]
  },
  {
   "cell_type": "markdown",
   "id": "c88f9b89-c5e0-4339-8b22-ad8fc1df405d",
   "metadata": {},
   "source": [
    "#### Box Plot\n",
    "A boxplot is a graphical representation used to detect outliers by displaying the distribution of a dataset through its minimum, first quartile (Q1), median (Q2), third quartile (Q3), and maximum\n",
    "where values falling below (Q1 - 1.5 × IQR) or above (Q3 + 1.5 × IQR) are considered outliers."
   ]
  },
  {
   "cell_type": "code",
   "execution_count": 69,
   "id": "a87ac95d-9372-4be6-8fcf-a3ff003324ba",
   "metadata": {},
   "outputs": [
    {
     "data": {
      "image/png": "[encoded data removed]",
      "text/plain": [
       "<Figure size 1000x400 with 1 Axes>"
      ]
     },
     "metadata": {},
     "output_type": "display_data"
    }
   ],
   "source": [
    "plt.figure(figsize=(10, 4))\n",
    "sns.boxplot(data=df[['Open', 'High', 'Low', 'Close']])\n",
    "plt.title('Boxplot for Price Columns')\n",
    "plt.show()"
   ]
  },
  {
   "cell_type": "markdown",
   "id": "251de2cc-c05a-44e4-8b53-4c4b0f829163",
   "metadata": {},
   "source": [
    "#### Detecting outlier"
   ]
  },
  {
   "cell_type": "code",
   "execution_count": 71,
   "id": "444fb514-37c4-4f21-aeef-794e05021d61",
   "metadata": {},
   "outputs": [
    {
     "name": "stdout",
     "output_type": "stream",
     "text": [
      "Open has 9 outliers\n",
      "High has 5 outliers\n",
      "Low has 9 outliers\n",
      "Close has 9 outliers\n"
     ]
    }
   ],
   "source": [
    "for col in ['Open', 'High', 'Low', 'Close']:\n",
    "    Q1 = df[col].quantile(0.25)\n",
    "    Q3 = df[col].quantile(0.75)\n",
    "    IQR = Q3 - Q1\n",
    "    lower = Q1 - 1.5 * IQR\n",
    "    upper = Q3 + 1.5 * IQR\n",
    "    outliers = df[(df[col] < lower) | (df[col] > upper)]\n",
    "    print(f\"{col} has {len(outliers)} outliers\")"
   ]
  },
  {
   "cell_type": "markdown",
   "id": "922e64bd-8bbe-42df-8072-1bf8ae0877b8",
   "metadata": {},
   "source": [
    "#### Removing outliers\n",
    "  We remove outliers because:\n",
    "   1.Outliers can distort results, making models less accurate by pulling averages and regression lines away from true patterns.\n",
    "\n",
    "2.Outliers can indicate errors (like data entry mistakes) or rare special cases that we may not want to model."
   ]
  },
  {
   "cell_type": "code",
   "execution_count": 73,
   "id": "a5a57698-35ad-49d3-837d-6c2d4a919beb",
   "metadata": {},
   "outputs": [
    {
     "name": "stdout",
     "output_type": "stream",
     "text": [
      "After removing outliers: (155, 9)\n"
     ]
    }
   ],
   "source": [
    "df_cleaned = df.copy() \n",
    "for col in ['Open', 'High', 'Low', 'Close']:\n",
    "    Q1 = df_cleaned[col].quantile(0.25)\n",
    "    Q3 = df_cleaned[col].quantile(0.75)\n",
    "    IQR = Q3 - Q1\n",
    "    lower = Q1 - 1.5 * IQR\n",
    "    upper = Q3 + 1.5 * IQR\n",
    "    df_cleaned = df_cleaned[(df_cleaned[col] >= lower) & (df_cleaned[col] <= upper)]\n",
    "print(\"After removing outliers:\", df_cleaned.shape)\n"
   ]
  },
  {
   "cell_type": "code",
   "execution_count": 74,
   "id": "c0917b31-7a0c-4f46-9c82-8272f0011e97",
   "metadata": {},
   "outputs": [
    {
     "data": {
      "text/html": [
       "<div>\n",
       "<style scoped>\n",
       "    .dataframe tbody tr th:only-of-type {\n",
       "        vertical-align: middle;\n",
       "    }\n",
       "\n",
       "    .dataframe tbody tr th {\n",
       "        vertical-align: top;\n",
       "    }\n",
       "\n",
       "    .dataframe thead th {\n",
       "        text-align: right;\n",
       "    }\n",
       "</style>\n",
       "<table border=\"1\" class=\"dataframe\">\n",
       "  <thead>\n",
       "    <tr style=\"text-align: right;\">\n",
       "      <th></th>\n",
       "      <th>Date</th>\n",
       "      <th>Open</th>\n",
       "      <th>High</th>\n",
       "      <th>Low</th>\n",
       "      <th>Close</th>\n",
       "      <th>year</th>\n",
       "      <th>Month</th>\n",
       "      <th>day</th>\n",
       "      <th>weekend</th>\n",
       "    </tr>\n",
       "  </thead>\n",
       "  <tbody>\n",
       "    <tr>\n",
       "      <th>0</th>\n",
       "      <td>2005-07-01</td>\n",
       "      <td>13.00</td>\n",
       "      <td>14.00</td>\n",
       "      <td>11.25</td>\n",
       "      <td>12.46</td>\n",
       "      <td>2005</td>\n",
       "      <td>7</td>\n",
       "      <td>Friday</td>\n",
       "      <td>0</td>\n",
       "    </tr>\n",
       "    <tr>\n",
       "      <th>1</th>\n",
       "      <td>2005-08-01</td>\n",
       "      <td>12.58</td>\n",
       "      <td>14.88</td>\n",
       "      <td>12.55</td>\n",
       "      <td>13.42</td>\n",
       "      <td>2005</td>\n",
       "      <td>8</td>\n",
       "      <td>Monday</td>\n",
       "      <td>0</td>\n",
       "    </tr>\n",
       "    <tr>\n",
       "      <th>2</th>\n",
       "      <td>2005-09-01</td>\n",
       "      <td>13.48</td>\n",
       "      <td>14.87</td>\n",
       "      <td>12.27</td>\n",
       "      <td>13.30</td>\n",
       "      <td>2005</td>\n",
       "      <td>9</td>\n",
       "      <td>Thursday</td>\n",
       "      <td>0</td>\n",
       "    </tr>\n",
       "    <tr>\n",
       "      <th>3</th>\n",
       "      <td>2005-10-01</td>\n",
       "      <td>13.20</td>\n",
       "      <td>14.47</td>\n",
       "      <td>12.40</td>\n",
       "      <td>12.99</td>\n",
       "      <td>2005</td>\n",
       "      <td>10</td>\n",
       "      <td>Saturday</td>\n",
       "      <td>1</td>\n",
       "    </tr>\n",
       "    <tr>\n",
       "      <th>4</th>\n",
       "      <td>2005-11-01</td>\n",
       "      <td>13.35</td>\n",
       "      <td>13.88</td>\n",
       "      <td>12.88</td>\n",
       "      <td>13.41</td>\n",
       "      <td>2005</td>\n",
       "      <td>11</td>\n",
       "      <td>Tuesday</td>\n",
       "      <td>0</td>\n",
       "    </tr>\n",
       "  </tbody>\n",
       "</table>\n",
       "</div>"
      ],
      "text/plain": [
       "        Date   Open   High    Low  Close  year  Month       day  weekend\n",
       "0 2005-07-01  13.00  14.00  11.25  12.46  2005      7    Friday        0\n",
       "1 2005-08-01  12.58  14.88  12.55  13.42  2005      8    Monday        0\n",
       "2 2005-09-01  13.48  14.87  12.27  13.30  2005      9  Thursday        0\n",
       "3 2005-10-01  13.20  14.47  12.40  12.99  2005     10  Saturday        1\n",
       "4 2005-11-01  13.35  13.88  12.88  13.41  2005     11   Tuesday        0"
      ]
     },
     "execution_count": 74,
     "metadata": {},
     "output_type": "execute_result"
    }
   ],
   "source": [
    "df.head()"
   ]
  },
  {
   "cell_type": "code",
   "execution_count": 75,
   "id": "3bec7212-313d-4ee8-82ba-295d5792b91f",
   "metadata": {},
   "outputs": [
    {
     "data": {
      "text/html": [
       "<div>\n",
       "<style scoped>\n",
       "    .dataframe tbody tr th:only-of-type {\n",
       "        vertical-align: middle;\n",
       "    }\n",
       "\n",
       "    .dataframe tbody tr th {\n",
       "        vertical-align: top;\n",
       "    }\n",
       "\n",
       "    .dataframe thead th {\n",
       "        text-align: right;\n",
       "    }\n",
       "</style>\n",
       "<table border=\"1\" class=\"dataframe\">\n",
       "  <thead>\n",
       "    <tr style=\"text-align: right;\">\n",
       "      <th></th>\n",
       "      <th>Date</th>\n",
       "      <th>Open</th>\n",
       "      <th>High</th>\n",
       "      <th>Low</th>\n",
       "      <th>Close</th>\n",
       "      <th>year</th>\n",
       "      <th>Month</th>\n",
       "      <th>day</th>\n",
       "      <th>weekend</th>\n",
       "    </tr>\n",
       "  </thead>\n",
       "  <tbody>\n",
       "    <tr>\n",
       "      <th>0</th>\n",
       "      <td>2005-07-01</td>\n",
       "      <td>13.00</td>\n",
       "      <td>14.00</td>\n",
       "      <td>11.25</td>\n",
       "      <td>12.46</td>\n",
       "      <td>2005</td>\n",
       "      <td>7</td>\n",
       "      <td>Friday</td>\n",
       "      <td>0</td>\n",
       "    </tr>\n",
       "    <tr>\n",
       "      <th>1</th>\n",
       "      <td>2005-08-01</td>\n",
       "      <td>12.58</td>\n",
       "      <td>14.88</td>\n",
       "      <td>12.55</td>\n",
       "      <td>13.42</td>\n",
       "      <td>2005</td>\n",
       "      <td>8</td>\n",
       "      <td>Monday</td>\n",
       "      <td>0</td>\n",
       "    </tr>\n",
       "    <tr>\n",
       "      <th>2</th>\n",
       "      <td>2005-09-01</td>\n",
       "      <td>13.48</td>\n",
       "      <td>14.87</td>\n",
       "      <td>12.27</td>\n",
       "      <td>13.30</td>\n",
       "      <td>2005</td>\n",
       "      <td>9</td>\n",
       "      <td>Thursday</td>\n",
       "      <td>0</td>\n",
       "    </tr>\n",
       "    <tr>\n",
       "      <th>3</th>\n",
       "      <td>2005-10-01</td>\n",
       "      <td>13.20</td>\n",
       "      <td>14.47</td>\n",
       "      <td>12.40</td>\n",
       "      <td>12.99</td>\n",
       "      <td>2005</td>\n",
       "      <td>10</td>\n",
       "      <td>Saturday</td>\n",
       "      <td>1</td>\n",
       "    </tr>\n",
       "    <tr>\n",
       "      <th>4</th>\n",
       "      <td>2005-11-01</td>\n",
       "      <td>13.35</td>\n",
       "      <td>13.88</td>\n",
       "      <td>12.88</td>\n",
       "      <td>13.41</td>\n",
       "      <td>2005</td>\n",
       "      <td>11</td>\n",
       "      <td>Tuesday</td>\n",
       "      <td>0</td>\n",
       "    </tr>\n",
       "  </tbody>\n",
       "</table>\n",
       "</div>"
      ],
      "text/plain": [
       "        Date   Open   High    Low  Close  year  Month       day  weekend\n",
       "0 2005-07-01  13.00  14.00  11.25  12.46  2005      7    Friday        0\n",
       "1 2005-08-01  12.58  14.88  12.55  13.42  2005      8    Monday        0\n",
       "2 2005-09-01  13.48  14.87  12.27  13.30  2005      9  Thursday        0\n",
       "3 2005-10-01  13.20  14.47  12.40  12.99  2005     10  Saturday        1\n",
       "4 2005-11-01  13.35  13.88  12.88  13.41  2005     11   Tuesday        0"
      ]
     },
     "execution_count": 75,
     "metadata": {},
     "output_type": "execute_result"
    }
   ],
   "source": [
    "df.head()"
   ]
  },
  {
   "cell_type": "code",
   "execution_count": 76,
   "id": "6ad0ae48-b391-4847-8991-bb6455dfaf8e",
   "metadata": {},
   "outputs": [],
   "source": [
    "df = df.drop(['Date', 'Month', 'day'],axis=1)"
   ]
  },
  {
   "cell_type": "code",
   "execution_count": 77,
   "id": "6a6c381b-d0e7-4d6a-9737-382ee78dce72",
   "metadata": {},
   "outputs": [
    {
     "data": {
      "text/plain": [
       "RangeIndex(start=0, stop=185, step=1)"
      ]
     },
     "execution_count": 77,
     "metadata": {},
     "output_type": "execute_result"
    }
   ],
   "source": [
    "df.index"
   ]
  },
  {
   "cell_type": "markdown",
   "id": "6baf92b6-d5e7-4169-a021-11d47befac73",
   "metadata": {},
   "source": [
    "#### Model Preparation "
   ]
  },
  {
   "cell_type": "code",
   "execution_count": 79,
   "id": "1a4eb486-2714-41a6-981b-f1e8796d345c",
   "metadata": {},
   "outputs": [],
   "source": [
    "x = df.drop(['Close'], axis=1)\n",
    "y = df['Close']"
   ]
  },
  {
   "cell_type": "markdown",
   "id": "e5e39970-923e-4554-a23d-0814ee450f20",
   "metadata": {},
   "source": [
    "#### Train test split"
   ]
  },
  {
   "cell_type": "code",
   "execution_count": 81,
   "id": "dd40d839-9fcb-45ca-8d1d-174c8c76758f",
   "metadata": {},
   "outputs": [],
   "source": [
    "from sklearn.model_selection import train_test_split\n",
    "x_train, x_test, y_train, y_test = train_test_split(x, y, test_size=0.2, random_state=42)"
   ]
  },
  {
   "cell_type": "markdown",
   "id": "1d828130-5385-4cdb-99da-04f7d96919e9",
   "metadata": {},
   "source": [
    "#### Scaling"
   ]
  },
  {
   "cell_type": "code",
   "execution_count": 83,
   "id": "df232a6c-8509-43ff-8857-61308b42ac65",
   "metadata": {},
   "outputs": [],
   "source": [
    "from sklearn.preprocessing import StandardScaler\n",
    "scaler = StandardScaler()\n",
    "x_train = scaler.fit_transform(x_train)\n",
    "x_test = scaler.transform(x_test)"
   ]
  },
  {
   "cell_type": "markdown",
   "id": "6ed14cf6-f46d-40b1-ab9f-cf48c75928ab",
   "metadata": {},
   "source": [
    "#### Importing Linear regression "
   ]
  },
  {
   "cell_type": "code",
   "execution_count": 85,
   "id": "3fb153f3-8303-4bea-8952-e7e0624a4bf9",
   "metadata": {},
   "outputs": [
    {
     "data": {
      "text/html": [
       "<style>#sk-container-id-1 {\n",
       "  /* Definition of color scheme common for light and dark mode */\n",
       "  --sklearn-color-text: black;\n",
       "  --sklearn-color-line: gray;\n",
       "  /* Definition of color scheme for unfitted estimators */\n",
       "  --sklearn-color-unfitted-level-0: #fff5e6;\n",
       "  --sklearn-color-unfitted-level-1: #f6e4d2;\n",
       "  --sklearn-color-unfitted-level-2: #ffe0b3;\n",
       "  --sklearn-color-unfitted-level-3: chocolate;\n",
       "  /* Definition of color scheme for fitted estimators */\n",
       "  --sklearn-color-fitted-level-0: #f0f8ff;\n",
       "  --sklearn-color-fitted-level-1: #d4ebff;\n",
       "  --sklearn-color-fitted-level-2: #b3dbfd;\n",
       "  --sklearn-color-fitted-level-3: cornflowerblue;\n",
       "\n",
       "  /* Specific color for light theme */\n",
       "  --sklearn-color-text-on-default-background: var(--sg-text-color, var(--theme-code-foreground, var(--jp-content-font-color1, black)));\n",
       "  --sklearn-color-background: var(--sg-background-color, var(--theme-background, var(--jp-layout-color0, white)));\n",
       "  --sklearn-color-border-box: var(--sg-text-color, var(--theme-code-foreground, var(--jp-content-font-color1, black)));\n",
       "  --sklearn-color-icon: #696969;\n",
       "\n",
       "  @media (prefers-color-scheme: dark) {\n",
       "    /* Redefinition of color scheme for dark theme */\n",
       "    --sklearn-color-text-on-default-background: var(--sg-text-color, var(--theme-code-foreground, var(--jp-content-font-color1, white)));\n",
       "    --sklearn-color-background: var(--sg-background-color, var(--theme-background, var(--jp-layout-color0, #111)));\n",
       "    --sklearn-color-border-box: var(--sg-text-color, var(--theme-code-foreground, var(--jp-content-font-color1, white)));\n",
       "    --sklearn-color-icon: #878787;\n",
       "  }\n",
       "}\n",
       "\n",
       "#sk-container-id-1 {\n",
       "  color: var(--sklearn-color-text);\n",
       "}\n",
       "\n",
       "#sk-container-id-1 pre {\n",
       "  padding: 0;\n",
       "}\n",
       "\n",
       "#sk-container-id-1 input.sk-hidden--visually {\n",
       "  border: 0;\n",
       "  clip: rect(1px 1px 1px 1px);\n",
       "  clip: rect(1px, 1px, 1px, 1px);\n",
       "  height: 1px;\n",
       "  margin: -1px;\n",
       "  overflow: hidden;\n",
       "  padding: 0;\n",
       "  position: absolute;\n",
       "  width: 1px;\n",
       "}\n",
       "\n",
       "#sk-container-id-1 div.sk-dashed-wrapped {\n",
       "  border: 1px dashed var(--sklearn-color-line);\n",
       "  margin: 0 0.4em 0.5em 0.4em;\n",
       "  box-sizing: border-box;\n",
       "  padding-bottom: 0.4em;\n",
       "  background-color: var(--sklearn-color-background);\n",
       "}\n",
       "\n",
       "#sk-container-id-1 div.sk-container {\n",
       "  /* jupyter's `normalize.less` sets `[hidden] { display: none; }`\n",
       "     but bootstrap.min.css set `[hidden] { display: none !important; }`\n",
       "     so we also need the `!important` here to be able to override the\n",
       "     default hidden behavior on the sphinx rendered scikit-learn.org.\n",
       "     See: https://github.com/scikit-learn/scikit-learn/issues/21755 */\n",
       "  display: inline-block !important;\n",
       "  position: relative;\n",
       "}\n",
       "\n",
       "#sk-container-id-1 div.sk-text-repr-fallback {\n",
       "  display: none;\n",
       "}\n",
       "\n",
       "div.sk-parallel-item,\n",
       "div.sk-serial,\n",
       "div.sk-item {\n",
       "  /* draw centered vertical line to link estimators */\n",
       "  background-image: linear-gradient(var(--sklearn-color-text-on-default-background), var(--sklearn-color-text-on-default-background));\n",
       "  background-size: 2px 100%;\n",
       "  background-repeat: no-repeat;\n",
       "  background-position: center center;\n",
       "}\n",
       "\n",
       "/* Parallel-specific style estimator block */\n",
       "\n",
       "#sk-container-id-1 div.sk-parallel-item::after {\n",
       "  content: \"\";\n",
       "  width: 100%;\n",
       "  border-bottom: 2px solid var(--sklearn-color-text-on-default-background);\n",
       "  flex-grow: 1;\n",
       "}\n",
       "\n",
       "#sk-container-id-1 div.sk-parallel {\n",
       "  display: flex;\n",
       "  align-items: stretch;\n",
       "  justify-content: center;\n",
       "  background-color: var(--sklearn-color-background);\n",
       "  position: relative;\n",
       "}\n",
       "\n",
       "#sk-container-id-1 div.sk-parallel-item {\n",
       "  display: flex;\n",
       "  flex-direction: column;\n",
       "}\n",
       "\n",
       "#sk-container-id-1 div.sk-parallel-item:first-child::after {\n",
       "  align-self: flex-end;\n",
       "  width: 50%;\n",
       "}\n",
       "\n",
       "#sk-container-id-1 div.sk-parallel-item:last-child::after {\n",
       "  align-self: flex-start;\n",
       "  width: 50%;\n",
       "}\n",
       "\n",
       "#sk-container-id-1 div.sk-parallel-item:only-child::after {\n",
       "  width: 0;\n",
       "}\n",
       "\n",
       "/* Serial-specific style estimator block */\n",
       "\n",
       "#sk-container-id-1 div.sk-serial {\n",
       "  display: flex;\n",
       "  flex-direction: column;\n",
       "  align-items: center;\n",
       "  background-color: var(--sklearn-color-background);\n",
       "  padding-right: 1em;\n",
       "  padding-left: 1em;\n",
       "}\n",
       "\n",
       "\n",
       "/* Toggleable style: style used for estimator/Pipeline/ColumnTransformer box that is\n",
       "clickable and can be expanded/collapsed.\n",
       "- Pipeline and ColumnTransformer use this feature and define the default style\n",
       "- Estimators will overwrite some part of the style using the `sk-estimator` class\n",
       "*/\n",
       "\n",
       "/* Pipeline and ColumnTransformer style (default) */\n",
       "\n",
       "#sk-container-id-1 div.sk-toggleable {\n",
       "  /* Default theme specific background. It is overwritten whether we have a\n",
       "  specific estimator or a Pipeline/ColumnTransformer */\n",
       "  background-color: var(--sklearn-color-background);\n",
       "}\n",
       "\n",
       "/* Toggleable label */\n",
       "#sk-container-id-1 label.sk-toggleable__label {\n",
       "  cursor: pointer;\n",
       "  display: block;\n",
       "  width: 100%;\n",
       "  margin-bottom: 0;\n",
       "  padding: 0.5em;\n",
       "  box-sizing: border-box;\n",
       "  text-align: center;\n",
       "}\n",
       "\n",
       "#sk-container-id-1 label.sk-toggleable__label-arrow:before {\n",
       "  /* Arrow on the left of the label */\n",
       "  content: \"▸\";\n",
       "  float: left;\n",
       "  margin-right: 0.25em;\n",
       "  color: var(--sklearn-color-icon);\n",
       "}\n",
       "\n",
       "#sk-container-id-1 label.sk-toggleable__label-arrow:hover:before {\n",
       "  color: var(--sklearn-color-text);\n",
       "}\n",
       "\n",
       "/* Toggleable content - dropdown */\n",
       "\n",
       "#sk-container-id-1 div.sk-toggleable__content {\n",
       "  max-height: 0;\n",
       "  max-width: 0;\n",
       "  overflow: hidden;\n",
       "  text-align: left;\n",
       "  /* unfitted */\n",
       "  background-color: var(--sklearn-color-unfitted-level-0);\n",
       "}\n",
       "\n",
       "#sk-container-id-1 div.sk-toggleable__content.fitted {\n",
       "  /* fitted */\n",
       "  background-color: var(--sklearn-color-fitted-level-0);\n",
       "}\n",
       "\n",
       "#sk-container-id-1 div.sk-toggleable__content pre {\n",
       "  margin: 0.2em;\n",
       "  border-radius: 0.25em;\n",
       "  color: var(--sklearn-color-text);\n",
       "  /* unfitted */\n",
       "  background-color: var(--sklearn-color-unfitted-level-0);\n",
       "}\n",
       "\n",
       "#sk-container-id-1 div.sk-toggleable__content.fitted pre {\n",
       "  /* unfitted */\n",
       "  background-color: var(--sklearn-color-fitted-level-0);\n",
       "}\n",
       "\n",
       "#sk-container-id-1 input.sk-toggleable__control:checked~div.sk-toggleable__content {\n",
       "  /* Expand drop-down */\n",
       "  max-height: 200px;\n",
       "  max-width: 100%;\n",
       "  overflow: auto;\n",
       "}\n",
       "\n",
       "#sk-container-id-1 input.sk-toggleable__control:checked~label.sk-toggleable__label-arrow:before {\n",
       "  content: \"▾\";\n",
       "}\n",
       "\n",
       "/* Pipeline/ColumnTransformer-specific style */\n",
       "\n",
       "#sk-container-id-1 div.sk-label input.sk-toggleable__control:checked~label.sk-toggleable__label {\n",
       "  color: var(--sklearn-color-text);\n",
       "  background-color: var(--sklearn-color-unfitted-level-2);\n",
       "}\n",
       "\n",
       "#sk-container-id-1 div.sk-label.fitted input.sk-toggleable__control:checked~label.sk-toggleable__label {\n",
       "  background-color: var(--sklearn-color-fitted-level-2);\n",
       "}\n",
       "\n",
       "/* Estimator-specific style */\n",
       "\n",
       "/* Colorize estimator box */\n",
       "#sk-container-id-1 div.sk-estimator input.sk-toggleable__control:checked~label.sk-toggleable__label {\n",
       "  /* unfitted */\n",
       "  background-color: var(--sklearn-color-unfitted-level-2);\n",
       "}\n",
       "\n",
       "#sk-container-id-1 div.sk-estimator.fitted input.sk-toggleable__control:checked~label.sk-toggleable__label {\n",
       "  /* fitted */\n",
       "  background-color: var(--sklearn-color-fitted-level-2);\n",
       "}\n",
       "\n",
       "#sk-container-id-1 div.sk-label label.sk-toggleable__label,\n",
       "#sk-container-id-1 div.sk-label label {\n",
       "  /* The background is the default theme color */\n",
       "  color: var(--sklearn-color-text-on-default-background);\n",
       "}\n",
       "\n",
       "/* On hover, darken the color of the background */\n",
       "#sk-container-id-1 div.sk-label:hover label.sk-toggleable__label {\n",
       "  color: var(--sklearn-color-text);\n",
       "  background-color: var(--sklearn-color-unfitted-level-2);\n",
       "}\n",
       "\n",
       "/* Label box, darken color on hover, fitted */\n",
       "#sk-container-id-1 div.sk-label.fitted:hover label.sk-toggleable__label.fitted {\n",
       "  color: var(--sklearn-color-text);\n",
       "  background-color: var(--sklearn-color-fitted-level-2);\n",
       "}\n",
       "\n",
       "/* Estimator label */\n",
       "\n",
       "#sk-container-id-1 div.sk-label label {\n",
       "  font-family: monospace;\n",
       "  font-weight: bold;\n",
       "  display: inline-block;\n",
       "  line-height: 1.2em;\n",
       "}\n",
       "\n",
       "#sk-container-id-1 div.sk-label-container {\n",
       "  text-align: center;\n",
       "}\n",
       "\n",
       "/* Estimator-specific */\n",
       "#sk-container-id-1 div.sk-estimator {\n",
       "  font-family: monospace;\n",
       "  border: 1px dotted var(--sklearn-color-border-box);\n",
       "  border-radius: 0.25em;\n",
       "  box-sizing: border-box;\n",
       "  margin-bottom: 0.5em;\n",
       "  /* unfitted */\n",
       "  background-color: var(--sklearn-color-unfitted-level-0);\n",
       "}\n",
       "\n",
       "#sk-container-id-1 div.sk-estimator.fitted {\n",
       "  /* fitted */\n",
       "  background-color: var(--sklearn-color-fitted-level-0);\n",
       "}\n",
       "\n",
       "/* on hover */\n",
       "#sk-container-id-1 div.sk-estimator:hover {\n",
       "  /* unfitted */\n",
       "  background-color: var(--sklearn-color-unfitted-level-2);\n",
       "}\n",
       "\n",
       "#sk-container-id-1 div.sk-estimator.fitted:hover {\n",
       "  /* fitted */\n",
       "  background-color: var(--sklearn-color-fitted-level-2);\n",
       "}\n",
       "\n",
       "/* Specification for estimator info (e.g. \"i\" and \"?\") */\n",
       "\n",
       "/* Common style for \"i\" and \"?\" */\n",
       "\n",
       ".sk-estimator-doc-link,\n",
       "a:link.sk-estimator-doc-link,\n",
       "a:visited.sk-estimator-doc-link {\n",
       "  float: right;\n",
       "  font-size: smaller;\n",
       "  line-height: 1em;\n",
       "  font-family: monospace;\n",
       "  background-color: var(--sklearn-color-background);\n",
       "  border-radius: 1em;\n",
       "  height: 1em;\n",
       "  width: 1em;\n",
       "  text-decoration: none !important;\n",
       "  margin-left: 1ex;\n",
       "  /* unfitted */\n",
       "  border: var(--sklearn-color-unfitted-level-1) 1pt solid;\n",
       "  color: var(--sklearn-color-unfitted-level-1);\n",
       "}\n",
       "\n",
       ".sk-estimator-doc-link.fitted,\n",
       "a:link.sk-estimator-doc-link.fitted,\n",
       "a:visited.sk-estimator-doc-link.fitted {\n",
       "  /* fitted */\n",
       "  border: var(--sklearn-color-fitted-level-1) 1pt solid;\n",
       "  color: var(--sklearn-color-fitted-level-1);\n",
       "}\n",
       "\n",
       "/* On hover */\n",
       "div.sk-estimator:hover .sk-estimator-doc-link:hover,\n",
       ".sk-estimator-doc-link:hover,\n",
       "div.sk-label-container:hover .sk-estimator-doc-link:hover,\n",
       ".sk-estimator-doc-link:hover {\n",
       "  /* unfitted */\n",
       "  background-color: var(--sklearn-color-unfitted-level-3);\n",
       "  color: var(--sklearn-color-background);\n",
       "  text-decoration: none;\n",
       "}\n",
       "\n",
       "div.sk-estimator.fitted:hover .sk-estimator-doc-link.fitted:hover,\n",
       ".sk-estimator-doc-link.fitted:hover,\n",
       "div.sk-label-container:hover .sk-estimator-doc-link.fitted:hover,\n",
       ".sk-estimator-doc-link.fitted:hover {\n",
       "  /* fitted */\n",
       "  background-color: var(--sklearn-color-fitted-level-3);\n",
       "  color: var(--sklearn-color-background);\n",
       "  text-decoration: none;\n",
       "}\n",
       "\n",
       "/* Span, style for the box shown on hovering the info icon */\n",
       ".sk-estimator-doc-link span {\n",
       "  display: none;\n",
       "  z-index: 9999;\n",
       "  position: relative;\n",
       "  font-weight: normal;\n",
       "  right: .2ex;\n",
       "  padding: .5ex;\n",
       "  margin: .5ex;\n",
       "  width: min-content;\n",
       "  min-width: 20ex;\n",
       "  max-width: 50ex;\n",
       "  color: var(--sklearn-color-text);\n",
       "  box-shadow: 2pt 2pt 4pt #999;\n",
       "  /* unfitted */\n",
       "  background: var(--sklearn-color-unfitted-level-0);\n",
       "  border: .5pt solid var(--sklearn-color-unfitted-level-3);\n",
       "}\n",
       "\n",
       ".sk-estimator-doc-link.fitted span {\n",
       "  /* fitted */\n",
       "  background: var(--sklearn-color-fitted-level-0);\n",
       "  border: var(--sklearn-color-fitted-level-3);\n",
       "}\n",
       "\n",
       ".sk-estimator-doc-link:hover span {\n",
       "  display: block;\n",
       "}\n",
       "\n",
       "/* \"?\"-specific style due to the `<a>` HTML tag */\n",
       "\n",
       "#sk-container-id-1 a.estimator_doc_link {\n",
       "  float: right;\n",
       "  font-size: 1rem;\n",
       "  line-height: 1em;\n",
       "  font-family: monospace;\n",
       "  background-color: var(--sklearn-color-background);\n",
       "  border-radius: 1rem;\n",
       "  height: 1rem;\n",
       "  width: 1rem;\n",
       "  text-decoration: none;\n",
       "  /* unfitted */\n",
       "  color: var(--sklearn-color-unfitted-level-1);\n",
       "  border: var(--sklearn-color-unfitted-level-1) 1pt solid;\n",
       "}\n",
       "\n",
       "#sk-container-id-1 a.estimator_doc_link.fitted {\n",
       "  /* fitted */\n",
       "  border: var(--sklearn-color-fitted-level-1) 1pt solid;\n",
       "  color: var(--sklearn-color-fitted-level-1);\n",
       "}\n",
       "\n",
       "/* On hover */\n",
       "#sk-container-id-1 a.estimator_doc_link:hover {\n",
       "  /* unfitted */\n",
       "  background-color: var(--sklearn-color-unfitted-level-3);\n",
       "  color: var(--sklearn-color-background);\n",
       "  text-decoration: none;\n",
       "}\n",
       "\n",
       "#sk-container-id-1 a.estimator_doc_link.fitted:hover {\n",
       "  /* fitted */\n",
       "  background-color: var(--sklearn-color-fitted-level-3);\n",
       "}\n",
       "</style><div id=\"sk-container-id-1\" class=\"sk-top-container\"><div class=\"sk-text-repr-fallback\"><pre>LinearRegression()</pre><b>In a Jupyter environment, please rerun this cell to show the HTML representation or trust the notebook. <br />On GitHub, the HTML representation is unable to render, please try loading this page with nbviewer.org.</b></div><div class=\"sk-container\" hidden><div class=\"sk-item\"><div class=\"sk-estimator fitted sk-toggleable\"><input class=\"sk-toggleable__control sk-hidden--visually\" id=\"sk-estimator-id-1\" type=\"checkbox\" checked><label for=\"sk-estimator-id-1\" class=\"sk-toggleable__label fitted sk-toggleable__label-arrow fitted\">&nbsp;&nbsp;LinearRegression<a class=\"sk-estimator-doc-link fitted\" rel=\"noreferrer\" target=\"_blank\" href=\"https://scikit-learn.org/1.4/modules/generated/sklearn.linear_model.LinearRegression.html\">?<span>Documentation for LinearRegression</span></a><span class=\"sk-estimator-doc-link fitted\">i<span>Fitted</span></span></label><div class=\"sk-toggleable__content fitted\"><pre>LinearRegression()</pre></div> </div></div></div></div>"
      ],
      "text/plain": [
       "LinearRegression()"
      ]
     },
     "execution_count": 85,
     "metadata": {},
     "output_type": "execute_result"
    }
   ],
   "source": [
    "from sklearn.linear_model import LinearRegression\n",
    "lr = LinearRegression()\n",
    "lr.fit(x_train, y_train)"
   ]
  },
  {
   "cell_type": "markdown",
   "id": "5d677797-040f-486b-b5ba-ffc1b81c77e1",
   "metadata": {},
   "source": [
    "#### Predicting the scores"
   ]
  },
  {
   "cell_type": "code",
   "execution_count": 87,
   "id": "82b03115-d619-4e7a-ae93-0ffd628573fa",
   "metadata": {},
   "outputs": [
    {
     "data": {
      "text/plain": [
       "array([ 29.35215733,  13.92931539, 375.8658923 , 127.2551002 ,\n",
       "       315.16987675,  24.81640528,  41.79230436,  60.10633288,\n",
       "       166.08107288,  65.2531822 ,  46.7016333 , 196.02364901,\n",
       "        66.42068861,  39.15595634,  14.58233603,  25.39838133,\n",
       "        44.41990467,  27.01101071,  61.76241529,  51.6331908 ,\n",
       "       178.93720296, 155.78526196, 375.60361749,  34.9613979 ,\n",
       "        21.63644563, 134.56734129,  59.2064423 ,  31.79506732,\n",
       "        53.02240312, 146.3110317 ,  58.73771063,  47.97880368,\n",
       "       166.80322667, 264.30802266,  54.73446526,  53.47478611,\n",
       "        37.54634506])"
      ]
     },
     "execution_count": 87,
     "metadata": {},
     "output_type": "execute_result"
    }
   ],
   "source": [
    "y_pred = lr.predict(x_test)\n",
    "y_pred\n"
   ]
  },
  {
   "cell_type": "markdown",
   "id": "c22aef1b-2d2b-4043-a0fe-5a20f94c9d4b",
   "metadata": {},
   "source": [
    "#### Checking Accuracy"
   ]
  },
  {
   "cell_type": "code",
   "execution_count": 89,
   "id": "a862044a-456f-4f3c-990a-d7a6b4f55e0f",
   "metadata": {},
   "outputs": [
    {
     "name": "stdout",
     "output_type": "stream",
     "text": [
      " Training Score: 99.62517846209266\n",
      " Testing Score: 98.95719140964063\n"
     ]
    }
   ],
   "source": [
    "print(\" Training Score:\",(lr.score(x_train,y_train))*100)\n",
    "print(\" Testing Score:\",(lr.score(x_test,y_test))*100)"
   ]
  },
  {
   "cell_type": "markdown",
   "id": "ffe0e05e-fd6b-45c1-8f9d-48680fc5c6ab",
   "metadata": {},
   "source": [
    "#### Evaluation metrics"
   ]
  },
  {
   "cell_type": "code",
   "execution_count": 91,
   "id": "260c3f23-152e-41da-a545-a5e9e6adeae7",
   "metadata": {},
   "outputs": [
    {
     "name": "stdout",
     "output_type": "stream",
     "text": [
      "MSE : 94.25772983044402\n",
      "RMSE : 9.708642017833597\n",
      "R2 Linear regression : 98.95719140964063\n"
     ]
    }
   ],
   "source": [
    "# Importing Evaluation metrics \n",
    "from sklearn.metrics import mean_squared_error\n",
    "from sklearn.metrics import r2_score\n",
    "\n",
    "# Mean Squared Error\n",
    "MSE = mean_squared_error(y_test, y_pred)\n",
    "print(\"MSE :\",MSE)\n",
    "\n",
    "# Root mean Square error\n",
    "RMSE = np.sqrt(MSE)\n",
    "print(\"RMSE :\", RMSE)\n",
    "\n",
    "# Adjusted R squared\n",
    "r2 = r2_score(y_test, y_pred)\n",
    "print(\"R2 Linear regression :\" ,r2*100)"
   ]
  },
  {
   "cell_type": "markdown",
   "id": "760dab15-82f6-4bc9-9543-3dd74a37219b",
   "metadata": {},
   "source": [
    "#### Difference"
   ]
  },
  {
   "cell_type": "code",
   "execution_count": 93,
   "id": "b1090dce-e8db-4ad8-a43e-020c4734f146",
   "metadata": {},
   "outputs": [
    {
     "data": {
      "text/html": [
       "<div>\n",
       "<style scoped>\n",
       "    .dataframe tbody tr th:only-of-type {\n",
       "        vertical-align: middle;\n",
       "    }\n",
       "\n",
       "    .dataframe tbody tr th {\n",
       "        vertical-align: top;\n",
       "    }\n",
       "\n",
       "    .dataframe thead th {\n",
       "        text-align: right;\n",
       "    }\n",
       "</style>\n",
       "<table border=\"1\" class=\"dataframe\">\n",
       "  <thead>\n",
       "    <tr style=\"text-align: right;\">\n",
       "      <th></th>\n",
       "      <th>Actual_value</th>\n",
       "      <th>Predicted_Value</th>\n",
       "      <th>Difference</th>\n",
       "    </tr>\n",
       "  </thead>\n",
       "  <tbody>\n",
       "    <tr>\n",
       "      <th>111</th>\n",
       "      <td>136.83</td>\n",
       "      <td>127</td>\n",
       "      <td>9.574900</td>\n",
       "    </tr>\n",
       "    <tr>\n",
       "      <th>124</th>\n",
       "      <td>153.30</td>\n",
       "      <td>155</td>\n",
       "      <td>2.485262</td>\n",
       "    </tr>\n",
       "    <tr>\n",
       "      <th>29</th>\n",
       "      <td>49.81</td>\n",
       "      <td>53</td>\n",
       "      <td>3.664786</td>\n",
       "    </tr>\n",
       "    <tr>\n",
       "      <th>19</th>\n",
       "      <td>28.63</td>\n",
       "      <td>29</td>\n",
       "      <td>0.722157</td>\n",
       "    </tr>\n",
       "    <tr>\n",
       "      <th>56</th>\n",
       "      <td>50.97</td>\n",
       "      <td>51</td>\n",
       "      <td>0.663191</td>\n",
       "    </tr>\n",
       "    <tr>\n",
       "      <th>163</th>\n",
       "      <td>231.20</td>\n",
       "      <td>196</td>\n",
       "      <td>35.176351</td>\n",
       "    </tr>\n",
       "    <tr>\n",
       "      <th>42</th>\n",
       "      <td>12.24</td>\n",
       "      <td>13</td>\n",
       "      <td>1.689315</td>\n",
       "    </tr>\n",
       "    <tr>\n",
       "      <th>51</th>\n",
       "      <td>47.31</td>\n",
       "      <td>44</td>\n",
       "      <td>2.890095</td>\n",
       "    </tr>\n",
       "    <tr>\n",
       "      <th>15</th>\n",
       "      <td>22.78</td>\n",
       "      <td>24</td>\n",
       "      <td>2.036405</td>\n",
       "    </tr>\n",
       "    <tr>\n",
       "      <th>9</th>\n",
       "      <td>19.49</td>\n",
       "      <td>21</td>\n",
       "      <td>2.146446</td>\n",
       "    </tr>\n",
       "  </tbody>\n",
       "</table>\n",
       "</div>"
      ],
      "text/plain": [
       "     Actual_value  Predicted_Value  Difference\n",
       "111        136.83              127    9.574900\n",
       "124        153.30              155    2.485262\n",
       "29          49.81               53    3.664786\n",
       "19          28.63               29    0.722157\n",
       "56          50.97               51    0.663191\n",
       "163        231.20              196   35.176351\n",
       "42          12.24               13    1.689315\n",
       "51          47.31               44    2.890095\n",
       "15          22.78               24    2.036405\n",
       "9           19.49               21    2.146446"
      ]
     },
     "execution_count": 93,
     "metadata": {},
     "output_type": "execute_result"
    }
   ],
   "source": [
    "diff = pd.DataFrame({\"Actual_value\" : y_test, \"Predicted_Value\" : y_pred.astype(int), \"Difference\" : abs(y_test - y_pred)})\n",
    "diff.sample(10)"
   ]
  },
  {
   "cell_type": "markdown",
   "id": "e30c6896-2eaf-40e7-b4c0-c5f91df12fb1",
   "metadata": {},
   "source": [
    "#### Visualise"
   ]
  },
  {
   "cell_type": "code",
   "execution_count": 95,
   "id": "d15ae2b3-6a36-4d30-b7fe-fd2926655c04",
   "metadata": {},
   "outputs": [
    {
     "data": {
      "image/png": "[encoded data removed]",
      "text/plain": [
       "<Figure size 1200x600 with 1 Axes>"
      ]
     },
     "metadata": {},
     "output_type": "display_data"
    }
   ],
   "source": [
    "plt.figure(figsize = (12,6))\n",
    "sns.scatterplot(diff['Actual_value'], color = 'g')\n",
    "sns.scatterplot(diff['Predicted_Value'], color = 'r')\n",
    "sns.scatterplot(diff['Difference'], color = 'b')\n",
    "plt.show()"
   ]
  },
  {
   "cell_type": "markdown",
   "id": "dd649dce-019a-44f1-bdd0-6fcb47f63c25",
   "metadata": {},
   "source": [
    "#### Decision tree regressor\n"
   ]
  },
  {
   "cell_type": "code",
   "execution_count": 97,
   "id": "72e29118-6d04-45ea-bad8-cd138db76cf7",
   "metadata": {},
   "outputs": [
    {
     "name": "stdout",
     "output_type": "stream",
     "text": [
      "MSE: 269.59264054054046\n",
      "RMSE : 16.419276492602847\n",
      "R2 for Decision Tree Regressor :  97.01739558167739\n"
     ]
    }
   ],
   "source": [
    "# Importing the packages\n",
    "from sklearn.tree import DecisionTreeRegressor\n",
    "decision_tree = DecisionTreeRegressor(max_depth=14)\n",
    "\n",
    "# Fitting the train model\n",
    "decision_tree.fit(x_train, y_train)\n",
    "\n",
    "# Predicting from the model \n",
    "DT_y_pred = decision_tree.predict(x_test)\n",
    "DT_y_train = decision_tree.predict(x_train)\n",
    "\n",
    "# Finding the error\n",
    "MSE = mean_squared_error(y_test,DT_y_pred)\n",
    "print(\"MSE:\", MSE)\n",
    "\n",
    "# Root mean squared error\n",
    "RMSE = np.sqrt(MSE)\n",
    "print(\"RMSE :\" , RMSE)\n",
    "\n",
    "# Adjusted r2\n",
    "r2 = r2_score(y_test, DT_y_pred)\n",
    "print(\"R2 for Decision Tree Regressor : \", r2*100)"
   ]
  },
  {
   "cell_type": "markdown",
   "id": "94df9d6b-7fee-4d9d-b1d4-a9b7e7723f0b",
   "metadata": {},
   "source": [
    "#### Checking the Accuracy¶"
   ]
  },
  {
   "cell_type": "code",
   "execution_count": 99,
   "id": "c5c41741-a4ad-4de9-911a-442f1251dd9b",
   "metadata": {},
   "outputs": [
    {
     "name": "stdout",
     "output_type": "stream",
     "text": [
      "Trainig Score:  100.0 %\n",
      "Testing Score:  97.01739558167739 %\n"
     ]
    }
   ],
   "source": [
    "print(\"Trainig Score: \",(decision_tree.score(x_train, y_train))*100,\"%\")\n",
    "print(\"Testing Score: \",(decision_tree.score(x_test, y_test))*100,\"%\")"
   ]
  },
  {
   "cell_type": "markdown",
   "id": "2459812a-05f4-413a-9d20-e8af75fb2f28",
   "metadata": {},
   "source": [
    "#### Difference"
   ]
  },
  {
   "cell_type": "code",
   "execution_count": 101,
   "id": "033962f8-4ed1-4c7a-9d65-0992327910ad",
   "metadata": {},
   "outputs": [
    {
     "data": {
      "text/html": [
       "<div>\n",
       "<style scoped>\n",
       "    .dataframe tbody tr th:only-of-type {\n",
       "        vertical-align: middle;\n",
       "    }\n",
       "\n",
       "    .dataframe tbody tr th {\n",
       "        vertical-align: top;\n",
       "    }\n",
       "\n",
       "    .dataframe thead th {\n",
       "        text-align: right;\n",
       "    }\n",
       "</style>\n",
       "<table border=\"1\" class=\"dataframe\">\n",
       "  <thead>\n",
       "    <tr style=\"text-align: right;\">\n",
       "      <th></th>\n",
       "      <th>Actual Value</th>\n",
       "      <th>Predicted Value</th>\n",
       "      <th>Difference</th>\n",
       "    </tr>\n",
       "  </thead>\n",
       "  <tbody>\n",
       "    <tr>\n",
       "      <th>176</th>\n",
       "      <td>22.45</td>\n",
       "      <td>82.70</td>\n",
       "      <td>-60.25</td>\n",
       "    </tr>\n",
       "    <tr>\n",
       "      <th>68</th>\n",
       "      <td>61.98</td>\n",
       "      <td>62.38</td>\n",
       "      <td>-0.40</td>\n",
       "    </tr>\n",
       "    <tr>\n",
       "      <th>146</th>\n",
       "      <td>350.00</td>\n",
       "      <td>351.15</td>\n",
       "      <td>-1.15</td>\n",
       "    </tr>\n",
       "    <tr>\n",
       "      <th>98</th>\n",
       "      <td>57.50</td>\n",
       "      <td>82.70</td>\n",
       "      <td>-25.20</td>\n",
       "    </tr>\n",
       "    <tr>\n",
       "      <th>42</th>\n",
       "      <td>12.24</td>\n",
       "      <td>12.46</td>\n",
       "      <td>-0.22</td>\n",
       "    </tr>\n",
       "    <tr>\n",
       "      <th>113</th>\n",
       "      <td>154.57</td>\n",
       "      <td>145.23</td>\n",
       "      <td>9.34</td>\n",
       "    </tr>\n",
       "    <tr>\n",
       "      <th>51</th>\n",
       "      <td>47.31</td>\n",
       "      <td>39.20</td>\n",
       "      <td>8.11</td>\n",
       "    </tr>\n",
       "    <tr>\n",
       "      <th>135</th>\n",
       "      <td>253.52</td>\n",
       "      <td>272.56</td>\n",
       "      <td>-19.04</td>\n",
       "    </tr>\n",
       "    <tr>\n",
       "      <th>19</th>\n",
       "      <td>28.63</td>\n",
       "      <td>31.93</td>\n",
       "      <td>-3.30</td>\n",
       "    </tr>\n",
       "    <tr>\n",
       "      <th>170</th>\n",
       "      <td>41.45</td>\n",
       "      <td>72.85</td>\n",
       "      <td>-31.40</td>\n",
       "    </tr>\n",
       "  </tbody>\n",
       "</table>\n",
       "</div>"
      ],
      "text/plain": [
       "     Actual Value  Predicted Value  Difference\n",
       "176         22.45            82.70      -60.25\n",
       "68          61.98            62.38       -0.40\n",
       "146        350.00           351.15       -1.15\n",
       "98          57.50            82.70      -25.20\n",
       "42          12.24            12.46       -0.22\n",
       "113        154.57           145.23        9.34\n",
       "51          47.31            39.20        8.11\n",
       "135        253.52           272.56      -19.04\n",
       "19          28.63            31.93       -3.30\n",
       "170         41.45            72.85      -31.40"
      ]
     },
     "execution_count": 101,
     "metadata": {},
     "output_type": "execute_result"
    }
   ],
   "source": [
    "predicted_value = pd.DataFrame({'Actual Value': y_test, 'Predicted Value': DT_y_pred, 'Difference': y_test - DT_y_pred})\n",
    "predicted_value.sample(10)"
   ]
  },
  {
   "cell_type": "markdown",
   "id": "21914cdb-f9cd-4610-91b9-8df98924f37c",
   "metadata": {},
   "source": [
    "\n",
    "#### Random Forest Regresoor"
   ]
  },
  {
   "cell_type": "code",
   "execution_count": 103,
   "id": "e6bf5bcb-c0c8-4b74-8dd6-acda43c5b37b",
   "metadata": {},
   "outputs": [
    {
     "name": "stdout",
     "output_type": "stream",
     "text": [
      "MSE : 220.68696862988992\n",
      "RMSE : 14.855536632174886\n",
      "R2 for Random Forest : 97.55845735854666\n"
     ]
    }
   ],
   "source": [
    "# Importing the model\n",
    "from sklearn.ensemble import RandomForestRegressor\n",
    "\n",
    "# Setting the hyperparameter values\n",
    "random_forest = RandomForestRegressor(n_estimators = 20, max_depth=8)\n",
    "random_forest.fit(x_train,y_train)\n",
    "rf_y_pred = random_forest.predict(x_test)\n",
    "\n",
    "# Mean squared error\n",
    "MSE = mean_squared_error(y_test, rf_y_pred)\n",
    "print(\"MSE :\", MSE)\n",
    "\n",
    "# Root mean squared error\n",
    "RMSE = np.sqrt(MSE)\n",
    "print(\"RMSE :\", RMSE)\n",
    "\n",
    "# Adjusted R2\n",
    "r2 = r2_score(y_test, rf_y_pred)\n",
    "print(\"R2 for Random Forest :\", r2*100)"
   ]
  },
  {
   "cell_type": "markdown",
   "id": "9c5c11b1-12d4-48b4-9428-137251049c9b",
   "metadata": {},
   "source": [
    " #### Checking the Accuracy"
   ]
  },
  {
   "cell_type": "code",
   "execution_count": 105,
   "id": "f513bc2e-1f56-47c4-954f-f5c1a2fdd46a",
   "metadata": {},
   "outputs": [
    {
     "name": "stdout",
     "output_type": "stream",
     "text": [
      "Trainig Score:  99.81452270866778 %\n",
      "Testing Score:  97.55845735854666 %\n"
     ]
    }
   ],
   "source": [
    "print(\"Trainig Score: \",(random_forest.score(x_train, y_train))*100,\"%\")\n",
    "print(\"Testing Score: \",(random_forest.score(x_test, y_test))*100,\"%\")"
   ]
  },
  {
   "cell_type": "markdown",
   "id": "ed9df3f9-9ff3-4e19-9352-9dbeabf61b9e",
   "metadata": {},
   "source": [
    "#### Difference\n"
   ]
  },
  {
   "cell_type": "code",
   "execution_count": 107,
   "id": "3e2f530f-728b-49fd-862e-5d2b8e6a466e",
   "metadata": {},
   "outputs": [
    {
     "data": {
      "text/html": [
       "<div>\n",
       "<style scoped>\n",
       "    .dataframe tbody tr th:only-of-type {\n",
       "        vertical-align: middle;\n",
       "    }\n",
       "\n",
       "    .dataframe tbody tr th {\n",
       "        vertical-align: top;\n",
       "    }\n",
       "\n",
       "    .dataframe thead th {\n",
       "        text-align: right;\n",
       "    }\n",
       "</style>\n",
       "<table border=\"1\" class=\"dataframe\">\n",
       "  <thead>\n",
       "    <tr style=\"text-align: right;\">\n",
       "      <th></th>\n",
       "      <th>Actual Value</th>\n",
       "      <th>Predicted Value</th>\n",
       "      <th>Difference</th>\n",
       "    </tr>\n",
       "  </thead>\n",
       "  <tbody>\n",
       "    <tr>\n",
       "      <th>29</th>\n",
       "      <td>49.81</td>\n",
       "      <td>50.09265</td>\n",
       "      <td>-0.28265</td>\n",
       "    </tr>\n",
       "    <tr>\n",
       "      <th>111</th>\n",
       "      <td>136.83</td>\n",
       "      <td>113.15750</td>\n",
       "      <td>23.67250</td>\n",
       "    </tr>\n",
       "    <tr>\n",
       "      <th>126</th>\n",
       "      <td>149.38</td>\n",
       "      <td>135.76400</td>\n",
       "      <td>13.61600</td>\n",
       "    </tr>\n",
       "    <tr>\n",
       "      <th>117</th>\n",
       "      <td>167.96</td>\n",
       "      <td>169.88910</td>\n",
       "      <td>-1.92910</td>\n",
       "    </tr>\n",
       "    <tr>\n",
       "      <th>9</th>\n",
       "      <td>19.49</td>\n",
       "      <td>18.34400</td>\n",
       "      <td>1.14600</td>\n",
       "    </tr>\n",
       "    <tr>\n",
       "      <th>35</th>\n",
       "      <td>22.85</td>\n",
       "      <td>30.91420</td>\n",
       "      <td>-8.06420</td>\n",
       "    </tr>\n",
       "    <tr>\n",
       "      <th>113</th>\n",
       "      <td>154.57</td>\n",
       "      <td>143.67500</td>\n",
       "      <td>10.89500</td>\n",
       "    </tr>\n",
       "    <tr>\n",
       "      <th>163</th>\n",
       "      <td>231.20</td>\n",
       "      <td>189.67550</td>\n",
       "      <td>41.52450</td>\n",
       "    </tr>\n",
       "    <tr>\n",
       "      <th>24</th>\n",
       "      <td>37.93</td>\n",
       "      <td>41.63335</td>\n",
       "      <td>-3.70335</td>\n",
       "    </tr>\n",
       "    <tr>\n",
       "      <th>55</th>\n",
       "      <td>47.32</td>\n",
       "      <td>48.08090</td>\n",
       "      <td>-0.76090</td>\n",
       "    </tr>\n",
       "  </tbody>\n",
       "</table>\n",
       "</div>"
      ],
      "text/plain": [
       "     Actual Value  Predicted Value  Difference\n",
       "29          49.81         50.09265    -0.28265\n",
       "111        136.83        113.15750    23.67250\n",
       "126        149.38        135.76400    13.61600\n",
       "117        167.96        169.88910    -1.92910\n",
       "9           19.49         18.34400     1.14600\n",
       "35          22.85         30.91420    -8.06420\n",
       "113        154.57        143.67500    10.89500\n",
       "163        231.20        189.67550    41.52450\n",
       "24          37.93         41.63335    -3.70335\n",
       "55          47.32         48.08090    -0.76090"
      ]
     },
     "execution_count": 107,
     "metadata": {},
     "output_type": "execute_result"
    }
   ],
   "source": [
    "predicted_value = pd.DataFrame({'Actual Value': y_test, 'Predicted Value': rf_y_pred, 'Difference': y_test - rf_y_pred})\n",
    "predicted_value.sample(10)"
   ]
  },
  {
   "cell_type": "markdown",
   "id": "24104894-414e-43e5-97ca-25170f55254d",
   "metadata": {},
   "source": [
    "#### Support Vector Machine (SVM):"
   ]
  },
  {
   "cell_type": "code",
   "execution_count": 109,
   "id": "b8a790a9-1081-4632-9625-783746a6338c",
   "metadata": {},
   "outputs": [
    {
     "name": "stdout",
     "output_type": "stream",
     "text": [
      "MSE : 134.97482410581932\n",
      "RMSE : 11.617866590119691\n",
      "R2 for SVM : 98.5067229360076\n"
     ]
    }
   ],
   "source": [
    "from sklearn.svm import SVR\n",
    "# Setting the hyperparameter values\n",
    "svm_m = SVR(kernel='rbf', C=100, gamma=0.1, epsilon=0.1)\n",
    "svm_m.fit(x_train, y_train)\n",
    "svm_y_pred = svm_m.predict(x_test)\n",
    "# Mean squared error\n",
    "MSE = mean_squared_error(y_test, svm_y_pred)\n",
    "print(\"MSE :\", MSE)\n",
    "# Root mean squared error\n",
    "RMSE = np.sqrt(MSE)\n",
    "print(\"RMSE :\", RMSE)\n",
    "# R2 Score\n",
    "r2 = r2_score(y_test, svm_y_pred)\n",
    "print(\"R2 for SVM :\", r2*100)"
   ]
  },
  {
   "cell_type": "markdown",
   "id": "1bdf4304-9a8c-4850-a958-6b0095b09902",
   "metadata": {},
   "source": [
    "#### Checking the Accuracy"
   ]
  },
  {
   "cell_type": "code",
   "execution_count": 111,
   "id": "d559ff0a-1f1b-4dfb-901e-f7abc562e600",
   "metadata": {},
   "outputs": [
    {
     "name": "stdout",
     "output_type": "stream",
     "text": [
      "Training Score:  99.40725389713472 %\n",
      "Testing Score:  98.5067229360076 %\n"
     ]
    }
   ],
   "source": [
    "print(\"Training Score: \", (svm_m.score(x_train, y_train)) * 100, \"%\")\n",
    "print(\"Testing Score: \", (svm_m.score(x_test, y_test)) * 100, \"%\")"
   ]
  },
  {
   "cell_type": "code",
   "execution_count": 112,
   "id": "65f876a5-acac-48a5-8639-31b40bee9352",
   "metadata": {},
   "outputs": [
    {
     "data": {
      "text/html": [
       "<div>\n",
       "<style scoped>\n",
       "    .dataframe tbody tr th:only-of-type {\n",
       "        vertical-align: middle;\n",
       "    }\n",
       "\n",
       "    .dataframe tbody tr th {\n",
       "        vertical-align: top;\n",
       "    }\n",
       "\n",
       "    .dataframe thead th {\n",
       "        text-align: right;\n",
       "    }\n",
       "</style>\n",
       "<table border=\"1\" class=\"dataframe\">\n",
       "  <thead>\n",
       "    <tr style=\"text-align: right;\">\n",
       "      <th></th>\n",
       "      <th>Actual Value</th>\n",
       "      <th>Predicted Value</th>\n",
       "      <th>Difference</th>\n",
       "    </tr>\n",
       "  </thead>\n",
       "  <tbody>\n",
       "    <tr>\n",
       "      <th>16</th>\n",
       "      <td>25.32</td>\n",
       "      <td>24.041879</td>\n",
       "      <td>1.278121</td>\n",
       "    </tr>\n",
       "    <tr>\n",
       "      <th>98</th>\n",
       "      <td>57.50</td>\n",
       "      <td>58.610850</td>\n",
       "      <td>-1.110850</td>\n",
       "    </tr>\n",
       "    <tr>\n",
       "      <th>163</th>\n",
       "      <td>231.20</td>\n",
       "      <td>189.346592</td>\n",
       "      <td>41.853408</td>\n",
       "    </tr>\n",
       "    <tr>\n",
       "      <th>119</th>\n",
       "      <td>168.60</td>\n",
       "      <td>170.304785</td>\n",
       "      <td>-1.704785</td>\n",
       "    </tr>\n",
       "    <tr>\n",
       "      <th>24</th>\n",
       "      <td>37.93</td>\n",
       "      <td>35.841102</td>\n",
       "      <td>2.088898</td>\n",
       "    </tr>\n",
       "    <tr>\n",
       "      <th>75</th>\n",
       "      <td>62.90</td>\n",
       "      <td>56.165975</td>\n",
       "      <td>6.734025</td>\n",
       "    </tr>\n",
       "    <tr>\n",
       "      <th>97</th>\n",
       "      <td>48.65</td>\n",
       "      <td>54.655962</td>\n",
       "      <td>-6.005962</td>\n",
       "    </tr>\n",
       "    <tr>\n",
       "      <th>9</th>\n",
       "      <td>19.49</td>\n",
       "      <td>19.242385</td>\n",
       "      <td>0.247615</td>\n",
       "    </tr>\n",
       "    <tr>\n",
       "      <th>68</th>\n",
       "      <td>61.98</td>\n",
       "      <td>57.843069</td>\n",
       "      <td>4.136931</td>\n",
       "    </tr>\n",
       "    <tr>\n",
       "      <th>135</th>\n",
       "      <td>253.52</td>\n",
       "      <td>278.020392</td>\n",
       "      <td>-24.500392</td>\n",
       "    </tr>\n",
       "  </tbody>\n",
       "</table>\n",
       "</div>"
      ],
      "text/plain": [
       "     Actual Value  Predicted Value  Difference\n",
       "16          25.32        24.041879    1.278121\n",
       "98          57.50        58.610850   -1.110850\n",
       "163        231.20       189.346592   41.853408\n",
       "119        168.60       170.304785   -1.704785\n",
       "24          37.93        35.841102    2.088898\n",
       "75          62.90        56.165975    6.734025\n",
       "97          48.65        54.655962   -6.005962\n",
       "9           19.49        19.242385    0.247615\n",
       "68          61.98        57.843069    4.136931\n",
       "135        253.52       278.020392  -24.500392"
      ]
     },
     "execution_count": 112,
     "metadata": {},
     "output_type": "execute_result"
    }
   ],
   "source": [
    "predicted_value = pd.DataFrame({'Actual Value': y_test, 'Predicted Value': svm_y_pred, 'Difference': y_test - svm_y_pred})\n",
    "predicted_value.sample(10)"
   ]
  },
  {
   "cell_type": "markdown",
   "id": "0417513e-d47a-49ec-b280-91916356360f",
   "metadata": {},
   "source": [
    "#### Difference\n"
   ]
  },
  {
   "cell_type": "markdown",
   "id": "00019e7b-86fb-40ae-8f37-5b45ab4386b1",
   "metadata": {},
   "source": [
    "#### KNeighborsRegressor"
   ]
  },
  {
   "cell_type": "code",
   "execution_count": 115,
   "id": "c77b6b99-2aca-42ea-9f54-519b17a38dee",
   "metadata": {},
   "outputs": [],
   "source": [
    "from sklearn.neighbors import KNeighborsRegressor\n",
    "# Setting the hyperparameter values\n",
    "knn_m = KNeighborsRegressor(n_neighbors=5)\n",
    "knn_m.fit(x_train, y_train)\n",
    "knn_y_pred = knn_m.predict(x_test)"
   ]
  },
  {
   "cell_type": "code",
   "execution_count": 116,
   "id": "5501ab2c-5de1-45a9-b503-089d8e1bf709",
   "metadata": {},
   "outputs": [
    {
     "name": "stdout",
     "output_type": "stream",
     "text": [
      "MSE : 398.92002183783774\n",
      "RMSE : 19.97298229703911\n",
      "R2 for KNN : 95.58659829398435\n"
     ]
    }
   ],
   "source": [
    "# Mean squared error\n",
    "MSE = mean_squared_error(y_test, knn_y_pred)\n",
    "print(\"MSE :\", MSE)\n",
    "\n",
    "# Root mean squared error\n",
    "RMSE = np.sqrt(MSE)\n",
    "print(\"RMSE :\", RMSE)\n",
    "\n",
    "# R2 Score\n",
    "r2 = r2_score(y_test, knn_y_pred)\n",
    "print(\"R2 for KNN :\", r2 * 100)\n"
   ]
  },
  {
   "cell_type": "markdown",
   "id": "8a34e09c-1b30-4aa0-8e06-4480460135f1",
   "metadata": {},
   "source": [
    "#### Checking the Accuracy"
   ]
  },
  {
   "cell_type": "code",
   "execution_count": 118,
   "id": "1698e6d5-bfc8-4488-b872-4496345f75c3",
   "metadata": {},
   "outputs": [
    {
     "name": "stdout",
     "output_type": "stream",
     "text": [
      "Training Score:  98.08589072340361 %\n",
      "Testing Score:  95.58659829398435 %\n"
     ]
    }
   ],
   "source": [
    "print(\"Training Score: \", (knn_m.score(x_train, y_train)) * 100, \"%\")\n",
    "print(\"Testing Score: \", (knn_m.score(x_test, y_test)) * 100, \"%\")"
   ]
  },
  {
   "cell_type": "markdown",
   "id": "ddfdf902-abaa-41ad-92cd-8932a80c61a6",
   "metadata": {},
   "source": [
    "#### Difference"
   ]
  },
  {
   "cell_type": "code",
   "execution_count": 120,
   "id": "9247fa4f-b3ac-4d23-8c2f-cdc0dc8a6743",
   "metadata": {},
   "outputs": [
    {
     "data": {
      "text/html": [
       "<div>\n",
       "<style scoped>\n",
       "    .dataframe tbody tr th:only-of-type {\n",
       "        vertical-align: middle;\n",
       "    }\n",
       "\n",
       "    .dataframe tbody tr th {\n",
       "        vertical-align: top;\n",
       "    }\n",
       "\n",
       "    .dataframe thead th {\n",
       "        text-align: right;\n",
       "    }\n",
       "</style>\n",
       "<table border=\"1\" class=\"dataframe\">\n",
       "  <thead>\n",
       "    <tr style=\"text-align: right;\">\n",
       "      <th></th>\n",
       "      <th>Actual Value</th>\n",
       "      <th>Predicted Value</th>\n",
       "      <th>Difference</th>\n",
       "    </tr>\n",
       "  </thead>\n",
       "  <tbody>\n",
       "    <tr>\n",
       "      <th>126</th>\n",
       "      <td>149.38</td>\n",
       "      <td>150.710</td>\n",
       "      <td>-1.330</td>\n",
       "    </tr>\n",
       "    <tr>\n",
       "      <th>176</th>\n",
       "      <td>22.45</td>\n",
       "      <td>43.928</td>\n",
       "      <td>-21.478</td>\n",
       "    </tr>\n",
       "    <tr>\n",
       "      <th>18</th>\n",
       "      <td>30.16</td>\n",
       "      <td>35.620</td>\n",
       "      <td>-5.460</td>\n",
       "    </tr>\n",
       "    <tr>\n",
       "      <th>75</th>\n",
       "      <td>62.90</td>\n",
       "      <td>64.458</td>\n",
       "      <td>-1.558</td>\n",
       "    </tr>\n",
       "    <tr>\n",
       "      <th>113</th>\n",
       "      <td>154.57</td>\n",
       "      <td>150.628</td>\n",
       "      <td>3.942</td>\n",
       "    </tr>\n",
       "    <tr>\n",
       "      <th>98</th>\n",
       "      <td>57.50</td>\n",
       "      <td>71.786</td>\n",
       "      <td>-14.286</td>\n",
       "    </tr>\n",
       "    <tr>\n",
       "      <th>156</th>\n",
       "      <td>367.90</td>\n",
       "      <td>309.590</td>\n",
       "      <td>58.310</td>\n",
       "    </tr>\n",
       "    <tr>\n",
       "      <th>66</th>\n",
       "      <td>52.59</td>\n",
       "      <td>64.458</td>\n",
       "      <td>-11.868</td>\n",
       "    </tr>\n",
       "    <tr>\n",
       "      <th>117</th>\n",
       "      <td>167.96</td>\n",
       "      <td>162.362</td>\n",
       "      <td>5.598</td>\n",
       "    </tr>\n",
       "    <tr>\n",
       "      <th>135</th>\n",
       "      <td>253.52</td>\n",
       "      <td>307.128</td>\n",
       "      <td>-53.608</td>\n",
       "    </tr>\n",
       "  </tbody>\n",
       "</table>\n",
       "</div>"
      ],
      "text/plain": [
       "     Actual Value  Predicted Value  Difference\n",
       "126        149.38          150.710      -1.330\n",
       "176         22.45           43.928     -21.478\n",
       "18          30.16           35.620      -5.460\n",
       "75          62.90           64.458      -1.558\n",
       "113        154.57          150.628       3.942\n",
       "98          57.50           71.786     -14.286\n",
       "156        367.90          309.590      58.310\n",
       "66          52.59           64.458     -11.868\n",
       "117        167.96          162.362       5.598\n",
       "135        253.52          307.128     -53.608"
      ]
     },
     "execution_count": 120,
     "metadata": {},
     "output_type": "execute_result"
    }
   ],
   "source": [
    "predicted_value = pd.DataFrame({'Actual Value': y_test, 'Predicted Value': knn_y_pred, 'Difference': y_test - knn_y_pred})\n",
    "predicted_value.sample(10)\n"
   ]
  },
  {
   "cell_type": "markdown",
   "id": "0f94babc-d974-44b6-9bc1-566d8f8516b6",
   "metadata": {},
   "source": [
    "#### cross validation"
   ]
  },
  {
   "cell_type": "code",
   "execution_count": 122,
   "id": "4dd120f6-9a9f-4124-8b8b-e31ea1e50585",
   "metadata": {},
   "outputs": [],
   "source": [
    "from sklearn.model_selection import cross_val_score"
   ]
  },
  {
   "cell_type": "markdown",
   "id": "a412e84e-81ce-405e-afdf-bbf54f515b4f",
   "metadata": {},
   "source": [
    "#### Decision tree regressor\n"
   ]
  },
  {
   "cell_type": "code",
   "execution_count": 124,
   "id": "ad460301-141a-494e-99a2-d1d05de602e5",
   "metadata": {},
   "outputs": [
    {
     "name": "stdout",
     "output_type": "stream",
     "text": [
      "Training: 97 %\n",
      "Testing: 92 %\n"
     ]
    }
   ],
   "source": [
    "print(\"Training:\", ((cross_val_score(decision_tree ,x_train, y_train))*100).mean().astype(int), \"%\")\n",
    "print(\"Testing:\", ((cross_val_score(decision_tree , x_test, y_test))*100).mean().astype(int), \"%\")"
   ]
  },
  {
   "cell_type": "markdown",
   "id": "9e398566-13a5-41cb-be59-785a65ac4c13",
   "metadata": {},
   "source": [
    "#### Random Forest Regresoor"
   ]
  },
  {
   "cell_type": "code",
   "execution_count": 126,
   "id": "d89e14e8-c75a-494f-9194-8e4283e1bad7",
   "metadata": {},
   "outputs": [
    {
     "name": "stdout",
     "output_type": "stream",
     "text": [
      "Training: 98 %\n",
      "Testing: 95 %\n"
     ]
    }
   ],
   "source": [
    "print(\"Training:\", ((cross_val_score(random_forest ,x_train, y_train))*100).mean().astype(int), \"%\")\n",
    "print(\"Testing:\", ((cross_val_score(random_forest , x_test, y_test))*100).mean().astype(int), \"%\")"
   ]
  },
  {
   "cell_type": "markdown",
   "id": "08c351ee-0966-4b95-aed7-d15e61490e63",
   "metadata": {},
   "source": [
    "#### Support Vector Machine (SVM):"
   ]
  },
  {
   "cell_type": "code",
   "execution_count": 128,
   "id": "5c3f2e1d-adb9-42b7-9b08-946d6c63719a",
   "metadata": {},
   "outputs": [
    {
     "name": "stdout",
     "output_type": "stream",
     "text": [
      "Training: 98 %\n",
      "Testing: 91 %\n"
     ]
    }
   ],
   "source": [
    "print(\"Training:\", ((cross_val_score(svm_m  ,x_train, y_train))*100).mean().astype(int), \"%\")\n",
    "print(\"Testing:\", ((cross_val_score(svm_m , x_test, y_test))*100).mean().astype(int), \"%\")"
   ]
  },
  {
   "cell_type": "markdown",
   "id": "69ad13b3-ba60-4992-b6ae-b4e8bee2de02",
   "metadata": {},
   "source": [
    "#### KNeighborsRegressor"
   ]
  },
  {
   "cell_type": "code",
   "execution_count": 130,
   "id": "ed88415a-b2b6-403c-a3b3-b69bb0bd422d",
   "metadata": {},
   "outputs": [
    {
     "name": "stdout",
     "output_type": "stream",
     "text": [
      "Training: 96 %\n",
      "Testing: 87 %\n"
     ]
    }
   ],
   "source": [
    "print(\"Training:\", ((cross_val_score(knn_m  ,x_train, y_train))*100).mean().astype(int), \"%\")\n",
    "print(\"Testing:\", ((cross_val_score(knn_m  , x_test, y_test))*100).mean().astype(int), \"%\")"
   ]
  },
  {
   "cell_type": "markdown",
   "id": "3b28bb75-68d4-4008-b89d-e3dd763bd074",
   "metadata": {},
   "source": [
    "#### Linear Regression"
   ]
  },
  {
   "cell_type": "code",
   "execution_count": 132,
   "id": "08468525-e0ca-4c6c-baec-e010bf14f8d3",
   "metadata": {},
   "outputs": [
    {
     "name": "stdout",
     "output_type": "stream",
     "text": [
      "Training: 99 %\n",
      "Testing: 96 %\n"
     ]
    }
   ],
   "source": [
    "print(\"Training:\", ((cross_val_score(lr ,x_train, y_train))*100).mean().astype(int), \"%\")\n",
    "print(\"Testing:\", ((cross_val_score(lr , x_test, y_test))*100).mean().astype(int), \"%\")"
   ]
  },
  {
   "cell_type": "markdown",
   "id": "3df51090-eda2-4b56-a95c-48486113bbc7",
   "metadata": {},
   "source": [
    "#### printing all the accuracy using dataframe"
   ]
  },
  {
   "cell_type": "code",
   "execution_count": 134,
   "id": "27e2fe78-b1cf-4499-8e8b-895636bca94a",
   "metadata": {},
   "outputs": [
    {
     "data": {
      "text/html": [
       "<div>\n",
       "<style scoped>\n",
       "    .dataframe tbody tr th:only-of-type {\n",
       "        vertical-align: middle;\n",
       "    }\n",
       "\n",
       "    .dataframe tbody tr th {\n",
       "        vertical-align: top;\n",
       "    }\n",
       "\n",
       "    .dataframe thead th {\n",
       "        text-align: right;\n",
       "    }\n",
       "</style>\n",
       "<table border=\"1\" class=\"dataframe\">\n",
       "  <thead>\n",
       "    <tr style=\"text-align: right;\">\n",
       "      <th></th>\n",
       "      <th>Training Score</th>\n",
       "      <th>Test Score</th>\n",
       "    </tr>\n",
       "  </thead>\n",
       "  <tbody>\n",
       "    <tr>\n",
       "      <th>Linear Regression</th>\n",
       "      <td>99.625178</td>\n",
       "      <td>98.957191</td>\n",
       "    </tr>\n",
       "    <tr>\n",
       "      <th>Decision Tree Regressor</th>\n",
       "      <td>100.000000</td>\n",
       "      <td>97.017396</td>\n",
       "    </tr>\n",
       "    <tr>\n",
       "      <th>Random Forest Regressor</th>\n",
       "      <td>99.814523</td>\n",
       "      <td>97.558457</td>\n",
       "    </tr>\n",
       "    <tr>\n",
       "      <th>KNeighbors Regressor</th>\n",
       "      <td>98.085891</td>\n",
       "      <td>95.586598</td>\n",
       "    </tr>\n",
       "    <tr>\n",
       "      <th>Support Vector Regressor</th>\n",
       "      <td>99.407254</td>\n",
       "      <td>98.506723</td>\n",
       "    </tr>\n",
       "  </tbody>\n",
       "</table>\n",
       "</div>"
      ],
      "text/plain": [
       "                          Training Score  Test Score\n",
       "Linear Regression              99.625178   98.957191\n",
       "Decision Tree Regressor       100.000000   97.017396\n",
       "Random Forest Regressor        99.814523   97.558457\n",
       "KNeighbors Regressor           98.085891   95.586598\n",
       "Support Vector Regressor       99.407254   98.506723"
      ]
     },
     "execution_count": 134,
     "metadata": {},
     "output_type": "execute_result"
    }
   ],
   "source": [
    "overall_scores = pd.DataFrame({'Linear Regression': ((lr.score(x_train, y_train))*100, (lr.score(x_test, y_test))*100),\n",
    "                              'Decision Tree Regressor': ((decision_tree.score(x_train, y_train))*100, (decision_tree.score(x_test, y_test))*100),\n",
    "                              'Random Forest Regressor': ((random_forest .score(x_train, y_train))*100, (random_forest .score(x_test, y_test))*100),\n",
    "                               'KNeighbors Regressor': ((knn_m.score(x_train, y_train))*100, (knn_m.score(x_test, y_test))*100),\n",
    "                               'Support Vector Regressor': ((svm_m.score(x_train, y_train))*100, (svm_m.score(x_test, y_test))*100)})\n",
    "overall_scores.T.rename(columns = {0:'Training Score', 1 : 'Test Score'})"
   ]
  },
  {
   "cell_type": "markdown",
   "id": "7aa3a87d-b75b-4ace-b2c8-62fb9cff27df",
   "metadata": {},
   "source": [
    "#### Observations"
   ]
  },
  {
   "cell_type": "markdown",
   "id": "064c2a07-0bf0-4e68-8bf3-8dd075056807",
   "metadata": {},
   "source": [
    "**1. Decision Tree**:\n",
    "Training accuracy is high (100%) but a slight drop in testing (97.01%) suggests mild overfitting.\n",
    "\n",
    "**2. Random Forest**:\n",
    "Strong performance with 99.81% training and 97.55% testing accuracy leads to  great generalization.\n",
    "\n",
    "**3. SVM**:\n",
    "Very high training score (99.40%) but slightly lower test score (98.50%) suggest reliable performance with slight overfitting.\n",
    "\n",
    "**4. KNN**:\n",
    "Decent training accuracy (98.08%) but notable drop in testing (95.58%)-indicates potential underfitting or sensitivity to data distribution.\n",
    "\n",
    "**5. Linear Regression**\n",
    "Excellent performance with 99.62% training and 98.95% testing -consistent and well-generalized model.\n",
    "\n"
   ]
  },
  {
   "cell_type": "code",
   "execution_count": null,
   "id": "3081e19c-d464-4bdc-8adf-775676f24729",
   "metadata": {},
   "outputs": [],
   "source": []
  },
  {
   "cell_type": "code",
   "execution_count": null,
   "id": "9579e590-03d2-469a-a4a3-7dc8308922ca",
   "metadata": {},
   "outputs": [],
   "source": []
  }
 ],
 "metadata": {
  "kernelspec": {
   "display_name": "Python 3 (ipykernel)",
   "language": "python",
   "name": "python3"
  },
  "language_info": {
   "codemirror_mode": {
    "name": "ipython",
    "version": 3
   },
   "file_extension": ".py",
   "mimetype": "text/x-python",
   "name": "python",
   "nbconvert_exporter": "python",
   "pygments_lexer": "ipython3",
   "version": "3.12.4"
  }
 },
 "nbformat": 4,
 "nbformat_minor": 5
}
